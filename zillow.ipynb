{
 "cells": [
  {
   "cell_type": "markdown",
   "id": "fc85e516",
   "metadata": {},
   "source": [
    "# ZILLOW"
   ]
  },
  {
   "cell_type": "code",
   "execution_count": 26,
   "id": "16bdaeae",
   "metadata": {},
   "outputs": [],
   "source": [
    "import pandas as pd\n",
    "import numpy as np\n",
    "import matplotlib.pyplot as plt\n",
    "import os\n",
    "from env import host, user, password"
   ]
  },
  {
   "cell_type": "code",
   "execution_count": 2,
   "id": "7920478d",
   "metadata": {},
   "outputs": [],
   "source": [
    "def get_connection(db, user=user, host=host, password=password):\n",
    "    '''\n",
    "    get_connection uses login info from env.py file to access Codeup db.\n",
    "    It takes in a string name of a database as an argument.\n",
    "    '''\n",
    "    return f'mysql+pymysql://{user}:{password}@{host}/{db}'\n",
    "    "
   ]
  },
  {
   "cell_type": "code",
   "execution_count": 5,
   "id": "3a7747da",
   "metadata": {},
   "outputs": [],
   "source": [
    "def get_zillow_data():\n",
    "    '''\n",
    "    zillow_data() gets the zillow (only properties_2017 table) data from Codeup db, then writes it to a csv file,\n",
    "    and returns the DF.\n",
    "    '''\n",
    "    # Creating a SQL query\n",
    "    sql_query = '''\n",
    "                SELECT DISTINCT * FROM properties_2017\n",
    "    LEFT JOIN propertylandusetype USING (propertylandusetypeid)\n",
    "    LEFT JOIN predictions_2017 USING (parcelid)\n",
    "    LEFT JOIN airconditioningtype USING (airconditioningtypeid)\n",
    "    LEFT JOIN architecturalstyletype USING (architecturalstyletypeid)\n",
    "    LEFT JOIN buildingclasstype USING (buildingclasstypeid)\n",
    "    LEFT JOIN heatingorsystemtype USING (heatingorsystemtypeid)\n",
    "    LEFT JOIN storytype USING (storytypeid)\n",
    "    LEFT JOIN typeconstructiontype USING (typeconstructiontypeid)\n",
    "    LEFT JOIN unique_properties USING (parcelid)\n",
    "    WHERE propertylandusedesc = 'Condominium' OR 'Single Family Residential' OR 'Townhouse'\n",
    "    OR 'Cluster Home' OR 'Bungalow'\n",
    "    OR 'Patio Home'\n",
    "    AND transactiondate BETWEEN '2017-01-01' AND '2017-12-31';\n",
    "                '''\n",
    "    \n",
    "    # Reading in the DataFrame from Codeup db.\n",
    "    df = pd.read_sql(sql_query, get_connection('zillow'))\n",
    "    return df"
   ]
  },
  {
   "cell_type": "code",
   "execution_count": 6,
   "id": "d2e2c2e8",
   "metadata": {
    "scrolled": true
   },
   "outputs": [
    {
     "data": {
      "text/html": [
       "<div>\n",
       "<style scoped>\n",
       "    .dataframe tbody tr th:only-of-type {\n",
       "        vertical-align: middle;\n",
       "    }\n",
       "\n",
       "    .dataframe tbody tr th {\n",
       "        vertical-align: top;\n",
       "    }\n",
       "\n",
       "    .dataframe thead th {\n",
       "        text-align: right;\n",
       "    }\n",
       "</style>\n",
       "<table border=\"1\" class=\"dataframe\">\n",
       "  <thead>\n",
       "    <tr style=\"text-align: right;\">\n",
       "      <th></th>\n",
       "      <th>parcelid</th>\n",
       "      <th>typeconstructiontypeid</th>\n",
       "      <th>storytypeid</th>\n",
       "      <th>heatingorsystemtypeid</th>\n",
       "      <th>buildingclasstypeid</th>\n",
       "      <th>architecturalstyletypeid</th>\n",
       "      <th>airconditioningtypeid</th>\n",
       "      <th>propertylandusetypeid</th>\n",
       "      <th>id</th>\n",
       "      <th>basementsqft</th>\n",
       "      <th>...</th>\n",
       "      <th>propertylandusedesc</th>\n",
       "      <th>id</th>\n",
       "      <th>logerror</th>\n",
       "      <th>transactiondate</th>\n",
       "      <th>airconditioningdesc</th>\n",
       "      <th>architecturalstyledesc</th>\n",
       "      <th>buildingclassdesc</th>\n",
       "      <th>heatingorsystemdesc</th>\n",
       "      <th>storydesc</th>\n",
       "      <th>typeconstructiondesc</th>\n",
       "    </tr>\n",
       "  </thead>\n",
       "  <tbody>\n",
       "    <tr>\n",
       "      <th>0</th>\n",
       "      <td>10859051</td>\n",
       "      <td>NaN</td>\n",
       "      <td>NaN</td>\n",
       "      <td>2.0</td>\n",
       "      <td>None</td>\n",
       "      <td>NaN</td>\n",
       "      <td>1.0</td>\n",
       "      <td>266.0</td>\n",
       "      <td>1853</td>\n",
       "      <td>NaN</td>\n",
       "      <td>...</td>\n",
       "      <td>Condominium</td>\n",
       "      <td>212.0</td>\n",
       "      <td>0.026735</td>\n",
       "      <td>2017-01-03</td>\n",
       "      <td>Central</td>\n",
       "      <td>None</td>\n",
       "      <td>None</td>\n",
       "      <td>Central</td>\n",
       "      <td>None</td>\n",
       "      <td>None</td>\n",
       "    </tr>\n",
       "    <tr>\n",
       "      <th>1</th>\n",
       "      <td>12859120</td>\n",
       "      <td>NaN</td>\n",
       "      <td>NaN</td>\n",
       "      <td>2.0</td>\n",
       "      <td>None</td>\n",
       "      <td>NaN</td>\n",
       "      <td>1.0</td>\n",
       "      <td>266.0</td>\n",
       "      <td>9323</td>\n",
       "      <td>NaN</td>\n",
       "      <td>...</td>\n",
       "      <td>Condominium</td>\n",
       "      <td>369.0</td>\n",
       "      <td>-0.017184</td>\n",
       "      <td>2017-01-03</td>\n",
       "      <td>Central</td>\n",
       "      <td>None</td>\n",
       "      <td>None</td>\n",
       "      <td>Central</td>\n",
       "      <td>None</td>\n",
       "      <td>None</td>\n",
       "    </tr>\n",
       "    <tr>\n",
       "      <th>2</th>\n",
       "      <td>14632619</td>\n",
       "      <td>NaN</td>\n",
       "      <td>NaN</td>\n",
       "      <td>NaN</td>\n",
       "      <td>None</td>\n",
       "      <td>NaN</td>\n",
       "      <td>NaN</td>\n",
       "      <td>266.0</td>\n",
       "      <td>13031</td>\n",
       "      <td>NaN</td>\n",
       "      <td>...</td>\n",
       "      <td>Condominium</td>\n",
       "      <td>3245.0</td>\n",
       "      <td>-0.064174</td>\n",
       "      <td>2017-01-17</td>\n",
       "      <td>None</td>\n",
       "      <td>None</td>\n",
       "      <td>None</td>\n",
       "      <td>None</td>\n",
       "      <td>None</td>\n",
       "      <td>None</td>\n",
       "    </tr>\n",
       "    <tr>\n",
       "      <th>3</th>\n",
       "      <td>11052658</td>\n",
       "      <td>NaN</td>\n",
       "      <td>NaN</td>\n",
       "      <td>2.0</td>\n",
       "      <td>None</td>\n",
       "      <td>NaN</td>\n",
       "      <td>1.0</td>\n",
       "      <td>266.0</td>\n",
       "      <td>17568</td>\n",
       "      <td>NaN</td>\n",
       "      <td>...</td>\n",
       "      <td>Condominium</td>\n",
       "      <td>400.0</td>\n",
       "      <td>-0.005658</td>\n",
       "      <td>2017-01-03</td>\n",
       "      <td>Central</td>\n",
       "      <td>None</td>\n",
       "      <td>None</td>\n",
       "      <td>Central</td>\n",
       "      <td>None</td>\n",
       "      <td>None</td>\n",
       "    </tr>\n",
       "    <tr>\n",
       "      <th>4</th>\n",
       "      <td>11270466</td>\n",
       "      <td>NaN</td>\n",
       "      <td>NaN</td>\n",
       "      <td>2.0</td>\n",
       "      <td>None</td>\n",
       "      <td>NaN</td>\n",
       "      <td>1.0</td>\n",
       "      <td>266.0</td>\n",
       "      <td>18257</td>\n",
       "      <td>NaN</td>\n",
       "      <td>...</td>\n",
       "      <td>Condominium</td>\n",
       "      <td>596.0</td>\n",
       "      <td>1.174471</td>\n",
       "      <td>2017-01-04</td>\n",
       "      <td>Central</td>\n",
       "      <td>None</td>\n",
       "      <td>None</td>\n",
       "      <td>Central</td>\n",
       "      <td>None</td>\n",
       "      <td>None</td>\n",
       "    </tr>\n",
       "  </tbody>\n",
       "</table>\n",
       "<p>5 rows × 69 columns</p>\n",
       "</div>"
      ],
      "text/plain": [
       "   parcelid  typeconstructiontypeid  storytypeid  heatingorsystemtypeid  \\\n",
       "0  10859051                     NaN          NaN                    2.0   \n",
       "1  12859120                     NaN          NaN                    2.0   \n",
       "2  14632619                     NaN          NaN                    NaN   \n",
       "3  11052658                     NaN          NaN                    2.0   \n",
       "4  11270466                     NaN          NaN                    2.0   \n",
       "\n",
       "  buildingclasstypeid  architecturalstyletypeid  airconditioningtypeid  \\\n",
       "0                None                       NaN                    1.0   \n",
       "1                None                       NaN                    1.0   \n",
       "2                None                       NaN                    NaN   \n",
       "3                None                       NaN                    1.0   \n",
       "4                None                       NaN                    1.0   \n",
       "\n",
       "   propertylandusetypeid     id  basementsqft  ...  propertylandusedesc  \\\n",
       "0                  266.0   1853           NaN  ...          Condominium   \n",
       "1                  266.0   9323           NaN  ...          Condominium   \n",
       "2                  266.0  13031           NaN  ...          Condominium   \n",
       "3                  266.0  17568           NaN  ...          Condominium   \n",
       "4                  266.0  18257           NaN  ...          Condominium   \n",
       "\n",
       "       id  logerror  transactiondate  airconditioningdesc  \\\n",
       "0   212.0  0.026735       2017-01-03              Central   \n",
       "1   369.0 -0.017184       2017-01-03              Central   \n",
       "2  3245.0 -0.064174       2017-01-17                 None   \n",
       "3   400.0 -0.005658       2017-01-03              Central   \n",
       "4   596.0  1.174471       2017-01-04              Central   \n",
       "\n",
       "   architecturalstyledesc  buildingclassdesc  heatingorsystemdesc storydesc  \\\n",
       "0                    None               None              Central      None   \n",
       "1                    None               None              Central      None   \n",
       "2                    None               None                 None      None   \n",
       "3                    None               None              Central      None   \n",
       "4                    None               None              Central      None   \n",
       "\n",
       "   typeconstructiondesc  \n",
       "0                  None  \n",
       "1                  None  \n",
       "2                  None  \n",
       "3                  None  \n",
       "4                  None  \n",
       "\n",
       "[5 rows x 69 columns]"
      ]
     },
     "execution_count": 6,
     "metadata": {},
     "output_type": "execute_result"
    }
   ],
   "source": [
    "houses = get_zillow_data()\n",
    "houses.head()"
   ]
  },
  {
   "cell_type": "code",
   "execution_count": 7,
   "id": "befa7c8f",
   "metadata": {},
   "outputs": [
    {
     "data": {
      "text/plain": [
       "(483837, 69)"
      ]
     },
     "execution_count": 7,
     "metadata": {},
     "output_type": "execute_result"
    }
   ],
   "source": [
    "houses.shape"
   ]
  },
  {
   "cell_type": "code",
   "execution_count": 8,
   "id": "c8655580",
   "metadata": {},
   "outputs": [
    {
     "name": "stdout",
     "output_type": "stream",
     "text": [
      "<class 'pandas.core.frame.DataFrame'>\n",
      "RangeIndex: 483837 entries, 0 to 483836\n",
      "Data columns (total 69 columns):\n",
      " #   Column                        Non-Null Count   Dtype  \n",
      "---  ------                        --------------   -----  \n",
      " 0   parcelid                      483837 non-null  int64  \n",
      " 1   typeconstructiontypeid        4089 non-null    float64\n",
      " 2   storytypeid                   16 non-null      float64\n",
      " 3   heatingorsystemtypeid         321319 non-null  float64\n",
      " 4   buildingclasstypeid           0 non-null       object \n",
      " 5   architecturalstyletypeid      3669 non-null    float64\n",
      " 6   airconditioningtypeid         233279 non-null  float64\n",
      " 7   propertylandusetypeid         483837 non-null  float64\n",
      " 8   id                            483837 non-null  int64  \n",
      " 9   basementsqft                  16 non-null      float64\n",
      " 10  bathroomcnt                   483837 non-null  float64\n",
      " 11  bedroomcnt                    483837 non-null  float64\n",
      " 12  buildingqualitytypeid         286661 non-null  float64\n",
      " 13  calculatedbathnbr             480092 non-null  float64\n",
      " 14  decktypeid                    3983 non-null    float64\n",
      " 15  finishedfloor1squarefeet      30057 non-null   float64\n",
      " 16  calculatedfinishedsquarefeet  480535 non-null  float64\n",
      " 17  finishedsquarefeet12          480271 non-null  float64\n",
      " 18  finishedsquarefeet13          0 non-null       object \n",
      " 19  finishedsquarefeet15          208 non-null     float64\n",
      " 20  finishedsquarefeet50          30057 non-null   float64\n",
      " 21  finishedsquarefeet6           56 non-null      float64\n",
      " 22  fips                          483837 non-null  float64\n",
      " 23  fireplacecnt                  19001 non-null   float64\n",
      " 24  fullbathcnt                   480092 non-null  float64\n",
      " 25  garagecarcnt                  170635 non-null  float64\n",
      " 26  garagetotalsqft               170635 non-null  float64\n",
      " 27  hashottuborspa                703 non-null     float64\n",
      " 28  latitude                      483837 non-null  float64\n",
      " 29  longitude                     483837 non-null  float64\n",
      " 30  lotsizesquarefeet             290714 non-null  float64\n",
      " 31  poolcnt                       112110 non-null  float64\n",
      " 32  poolsizesum                   73 non-null      float64\n",
      " 33  pooltypeid10                  557 non-null     float64\n",
      " 34  pooltypeid2                   146 non-null     float64\n",
      " 35  pooltypeid7                   111846 non-null  float64\n",
      " 36  propertycountylandusecode     483812 non-null  object \n",
      " 37  propertyzoningdesc            295459 non-null  object \n",
      " 38  rawcensustractandblock        483837 non-null  float64\n",
      " 39  regionidcity                  473869 non-null  float64\n",
      " 40  regionidcounty                483837 non-null  float64\n",
      " 41  regionidneighborhood          226481 non-null  float64\n",
      " 42  regionidzip                   479631 non-null  float64\n",
      " 43  roomcnt                       483837 non-null  float64\n",
      " 44  threequarterbathnbr           81041 non-null   float64\n",
      " 45  unitcnt                       293559 non-null  float64\n",
      " 46  yardbuildingsqft17            6412 non-null    float64\n",
      " 47  yardbuildingsqft26            65 non-null      float64\n",
      " 48  yearbuilt                     480409 non-null  float64\n",
      " 49  numberofstories               59231 non-null   float64\n",
      " 50  fireplaceflag                 2314 non-null    float64\n",
      " 51  structuretaxvaluedollarcnt    482337 non-null  float64\n",
      " 52  taxvaluedollarcnt             483633 non-null  float64\n",
      " 53  assessmentyear                483837 non-null  float64\n",
      " 54  landtaxvaluedollarcnt         483632 non-null  float64\n",
      " 55  taxamount                     482782 non-null  float64\n",
      " 56  taxdelinquencyflag            7650 non-null    object \n",
      " 57  taxdelinquencyyear            7651 non-null    float64\n",
      " 58  censustractandblock           472295 non-null  float64\n",
      " 59  propertylandusedesc           483837 non-null  object \n",
      " 60  id                            19342 non-null   float64\n",
      " 61  logerror                      19342 non-null   float64\n",
      " 62  transactiondate               19342 non-null   object \n",
      " 63  airconditioningdesc           233279 non-null  object \n",
      " 64  architecturalstyledesc        3669 non-null    object \n",
      " 65  buildingclassdesc             0 non-null       object \n",
      " 66  heatingorsystemdesc           321319 non-null  object \n",
      " 67  storydesc                     16 non-null      object \n",
      " 68  typeconstructiondesc          4089 non-null    object \n",
      "dtypes: float64(54), int64(2), object(13)\n",
      "memory usage: 254.7+ MB\n"
     ]
    }
   ],
   "source": [
    "houses.info()"
   ]
  },
  {
   "cell_type": "code",
   "execution_count": 11,
   "id": "1b74cafa",
   "metadata": {},
   "outputs": [
    {
     "data": {
      "text/html": [
       "<div>\n",
       "<style scoped>\n",
       "    .dataframe tbody tr th:only-of-type {\n",
       "        vertical-align: middle;\n",
       "    }\n",
       "\n",
       "    .dataframe tbody tr th {\n",
       "        vertical-align: top;\n",
       "    }\n",
       "\n",
       "    .dataframe thead th {\n",
       "        text-align: right;\n",
       "    }\n",
       "</style>\n",
       "<table border=\"1\" class=\"dataframe\">\n",
       "  <thead>\n",
       "    <tr style=\"text-align: right;\">\n",
       "      <th></th>\n",
       "      <th>count</th>\n",
       "      <th>mean</th>\n",
       "      <th>std</th>\n",
       "      <th>min</th>\n",
       "      <th>25%</th>\n",
       "      <th>50%</th>\n",
       "      <th>75%</th>\n",
       "      <th>max</th>\n",
       "    </tr>\n",
       "  </thead>\n",
       "  <tbody>\n",
       "    <tr>\n",
       "      <th>parcelid</th>\n",
       "      <td>483837</td>\n",
       "      <td>14225634</td>\n",
       "      <td>13395488</td>\n",
       "      <td>10714522</td>\n",
       "      <td>11582473</td>\n",
       "      <td>12570713</td>\n",
       "      <td>14666180</td>\n",
       "      <td>168183267</td>\n",
       "    </tr>\n",
       "    <tr>\n",
       "      <th>typeconstructiontypeid</th>\n",
       "      <td>4089</td>\n",
       "      <td>6</td>\n",
       "      <td>0</td>\n",
       "      <td>4</td>\n",
       "      <td>6</td>\n",
       "      <td>6</td>\n",
       "      <td>6</td>\n",
       "      <td>13</td>\n",
       "    </tr>\n",
       "    <tr>\n",
       "      <th>storytypeid</th>\n",
       "      <td>16</td>\n",
       "      <td>7</td>\n",
       "      <td>0</td>\n",
       "      <td>7</td>\n",
       "      <td>7</td>\n",
       "      <td>7</td>\n",
       "      <td>7</td>\n",
       "      <td>7</td>\n",
       "    </tr>\n",
       "    <tr>\n",
       "      <th>heatingorsystemtypeid</th>\n",
       "      <td>321319</td>\n",
       "      <td>3</td>\n",
       "      <td>5</td>\n",
       "      <td>1</td>\n",
       "      <td>2</td>\n",
       "      <td>2</td>\n",
       "      <td>2</td>\n",
       "      <td>24</td>\n",
       "    </tr>\n",
       "    <tr>\n",
       "      <th>architecturalstyletypeid</th>\n",
       "      <td>3669</td>\n",
       "      <td>7</td>\n",
       "      <td>2</td>\n",
       "      <td>2</td>\n",
       "      <td>7</td>\n",
       "      <td>7</td>\n",
       "      <td>7</td>\n",
       "      <td>27</td>\n",
       "    </tr>\n",
       "    <tr>\n",
       "      <th>airconditioningtypeid</th>\n",
       "      <td>233279</td>\n",
       "      <td>1</td>\n",
       "      <td>0</td>\n",
       "      <td>1</td>\n",
       "      <td>1</td>\n",
       "      <td>1</td>\n",
       "      <td>1</td>\n",
       "      <td>13</td>\n",
       "    </tr>\n",
       "    <tr>\n",
       "      <th>propertylandusetypeid</th>\n",
       "      <td>483837</td>\n",
       "      <td>266</td>\n",
       "      <td>0</td>\n",
       "      <td>266</td>\n",
       "      <td>266</td>\n",
       "      <td>266</td>\n",
       "      <td>266</td>\n",
       "      <td>266</td>\n",
       "    </tr>\n",
       "    <tr>\n",
       "      <th>id</th>\n",
       "      <td>483837</td>\n",
       "      <td>1492971</td>\n",
       "      <td>860784</td>\n",
       "      <td>14</td>\n",
       "      <td>746131</td>\n",
       "      <td>1492125</td>\n",
       "      <td>2237380</td>\n",
       "      <td>2982283</td>\n",
       "    </tr>\n",
       "    <tr>\n",
       "      <th>basementsqft</th>\n",
       "      <td>16</td>\n",
       "      <td>443</td>\n",
       "      <td>169</td>\n",
       "      <td>104</td>\n",
       "      <td>330</td>\n",
       "      <td>539</td>\n",
       "      <td>539</td>\n",
       "      <td>618</td>\n",
       "    </tr>\n",
       "    <tr>\n",
       "      <th>bathroomcnt</th>\n",
       "      <td>483837</td>\n",
       "      <td>2</td>\n",
       "      <td>0</td>\n",
       "      <td>0</td>\n",
       "      <td>2</td>\n",
       "      <td>2</td>\n",
       "      <td>3</td>\n",
       "      <td>18</td>\n",
       "    </tr>\n",
       "    <tr>\n",
       "      <th>bedroomcnt</th>\n",
       "      <td>483837</td>\n",
       "      <td>2</td>\n",
       "      <td>0</td>\n",
       "      <td>0</td>\n",
       "      <td>2</td>\n",
       "      <td>2</td>\n",
       "      <td>3</td>\n",
       "      <td>24</td>\n",
       "    </tr>\n",
       "    <tr>\n",
       "      <th>buildingqualitytypeid</th>\n",
       "      <td>286661</td>\n",
       "      <td>7</td>\n",
       "      <td>1</td>\n",
       "      <td>1</td>\n",
       "      <td>7</td>\n",
       "      <td>8</td>\n",
       "      <td>8</td>\n",
       "      <td>12</td>\n",
       "    </tr>\n",
       "    <tr>\n",
       "      <th>calculatedbathnbr</th>\n",
       "      <td>480092</td>\n",
       "      <td>2</td>\n",
       "      <td>0</td>\n",
       "      <td>1</td>\n",
       "      <td>2</td>\n",
       "      <td>2</td>\n",
       "      <td>3</td>\n",
       "      <td>18</td>\n",
       "    </tr>\n",
       "    <tr>\n",
       "      <th>decktypeid</th>\n",
       "      <td>3983</td>\n",
       "      <td>66</td>\n",
       "      <td>0</td>\n",
       "      <td>66</td>\n",
       "      <td>66</td>\n",
       "      <td>66</td>\n",
       "      <td>66</td>\n",
       "      <td>66</td>\n",
       "    </tr>\n",
       "    <tr>\n",
       "      <th>finishedfloor1squarefeet</th>\n",
       "      <td>30057</td>\n",
       "      <td>846</td>\n",
       "      <td>328</td>\n",
       "      <td>44</td>\n",
       "      <td>631</td>\n",
       "      <td>810</td>\n",
       "      <td>1027</td>\n",
       "      <td>4855</td>\n",
       "    </tr>\n",
       "    <tr>\n",
       "      <th>calculatedfinishedsquarefeet</th>\n",
       "      <td>480535</td>\n",
       "      <td>1303</td>\n",
       "      <td>547</td>\n",
       "      <td>1</td>\n",
       "      <td>980</td>\n",
       "      <td>1233</td>\n",
       "      <td>1548</td>\n",
       "      <td>181129</td>\n",
       "    </tr>\n",
       "    <tr>\n",
       "      <th>finishedsquarefeet12</th>\n",
       "      <td>480271</td>\n",
       "      <td>1303</td>\n",
       "      <td>482</td>\n",
       "      <td>1</td>\n",
       "      <td>980</td>\n",
       "      <td>1233</td>\n",
       "      <td>1548</td>\n",
       "      <td>44657</td>\n",
       "    </tr>\n",
       "    <tr>\n",
       "      <th>finishedsquarefeet15</th>\n",
       "      <td>208</td>\n",
       "      <td>936</td>\n",
       "      <td>290</td>\n",
       "      <td>462</td>\n",
       "      <td>691</td>\n",
       "      <td>883</td>\n",
       "      <td>1182</td>\n",
       "      <td>2339</td>\n",
       "    </tr>\n",
       "    <tr>\n",
       "      <th>finishedsquarefeet50</th>\n",
       "      <td>30057</td>\n",
       "      <td>847</td>\n",
       "      <td>329</td>\n",
       "      <td>44</td>\n",
       "      <td>631</td>\n",
       "      <td>810</td>\n",
       "      <td>1027</td>\n",
       "      <td>4855</td>\n",
       "    </tr>\n",
       "    <tr>\n",
       "      <th>finishedsquarefeet6</th>\n",
       "      <td>56</td>\n",
       "      <td>4241</td>\n",
       "      <td>24086</td>\n",
       "      <td>388</td>\n",
       "      <td>475</td>\n",
       "      <td>490</td>\n",
       "      <td>1134</td>\n",
       "      <td>181129</td>\n",
       "    </tr>\n",
       "    <tr>\n",
       "      <th>fips</th>\n",
       "      <td>483837</td>\n",
       "      <td>6048</td>\n",
       "      <td>19</td>\n",
       "      <td>6037</td>\n",
       "      <td>6037</td>\n",
       "      <td>6037</td>\n",
       "      <td>6059</td>\n",
       "      <td>6111</td>\n",
       "    </tr>\n",
       "    <tr>\n",
       "      <th>fireplacecnt</th>\n",
       "      <td>19001</td>\n",
       "      <td>1</td>\n",
       "      <td>0</td>\n",
       "      <td>1</td>\n",
       "      <td>1</td>\n",
       "      <td>1</td>\n",
       "      <td>1</td>\n",
       "      <td>3</td>\n",
       "    </tr>\n",
       "    <tr>\n",
       "      <th>fullbathcnt</th>\n",
       "      <td>480092</td>\n",
       "      <td>2</td>\n",
       "      <td>0</td>\n",
       "      <td>1</td>\n",
       "      <td>2</td>\n",
       "      <td>2</td>\n",
       "      <td>3</td>\n",
       "      <td>18</td>\n",
       "    </tr>\n",
       "    <tr>\n",
       "      <th>garagecarcnt</th>\n",
       "      <td>170635</td>\n",
       "      <td>1</td>\n",
       "      <td>0</td>\n",
       "      <td>0</td>\n",
       "      <td>1</td>\n",
       "      <td>2</td>\n",
       "      <td>2</td>\n",
       "      <td>15</td>\n",
       "    </tr>\n",
       "    <tr>\n",
       "      <th>garagetotalsqft</th>\n",
       "      <td>170635</td>\n",
       "      <td>0</td>\n",
       "      <td>0</td>\n",
       "      <td>0</td>\n",
       "      <td>0</td>\n",
       "      <td>0</td>\n",
       "      <td>0</td>\n",
       "      <td>0</td>\n",
       "    </tr>\n",
       "    <tr>\n",
       "      <th>hashottuborspa</th>\n",
       "      <td>703</td>\n",
       "      <td>1</td>\n",
       "      <td>0</td>\n",
       "      <td>1</td>\n",
       "      <td>1</td>\n",
       "      <td>1</td>\n",
       "      <td>1</td>\n",
       "      <td>1</td>\n",
       "    </tr>\n",
       "    <tr>\n",
       "      <th>latitude</th>\n",
       "      <td>483837</td>\n",
       "      <td>33951682</td>\n",
       "      <td>240387</td>\n",
       "      <td>33339312</td>\n",
       "      <td>33756700</td>\n",
       "      <td>33988900</td>\n",
       "      <td>34147700</td>\n",
       "      <td>34707400</td>\n",
       "    </tr>\n",
       "    <tr>\n",
       "      <th>longitude</th>\n",
       "      <td>483837</td>\n",
       "      <td>-118194964</td>\n",
       "      <td>364007</td>\n",
       "      <td>-119302440</td>\n",
       "      <td>-118435278</td>\n",
       "      <td>-118214000</td>\n",
       "      <td>-117878659</td>\n",
       "      <td>-117560453</td>\n",
       "    </tr>\n",
       "    <tr>\n",
       "      <th>lotsizesquarefeet</th>\n",
       "      <td>290714</td>\n",
       "      <td>113203</td>\n",
       "      <td>212160</td>\n",
       "      <td>108</td>\n",
       "      <td>16140</td>\n",
       "      <td>43251</td>\n",
       "      <td>129610</td>\n",
       "      <td>3589145</td>\n",
       "    </tr>\n",
       "    <tr>\n",
       "      <th>poolcnt</th>\n",
       "      <td>112110</td>\n",
       "      <td>1</td>\n",
       "      <td>0</td>\n",
       "      <td>1</td>\n",
       "      <td>1</td>\n",
       "      <td>1</td>\n",
       "      <td>1</td>\n",
       "      <td>1</td>\n",
       "    </tr>\n",
       "    <tr>\n",
       "      <th>poolsizesum</th>\n",
       "      <td>73</td>\n",
       "      <td>405</td>\n",
       "      <td>117</td>\n",
       "      <td>100</td>\n",
       "      <td>350</td>\n",
       "      <td>417</td>\n",
       "      <td>481</td>\n",
       "      <td>739</td>\n",
       "    </tr>\n",
       "    <tr>\n",
       "      <th>pooltypeid10</th>\n",
       "      <td>557</td>\n",
       "      <td>1</td>\n",
       "      <td>0</td>\n",
       "      <td>1</td>\n",
       "      <td>1</td>\n",
       "      <td>1</td>\n",
       "      <td>1</td>\n",
       "      <td>1</td>\n",
       "    </tr>\n",
       "    <tr>\n",
       "      <th>pooltypeid2</th>\n",
       "      <td>146</td>\n",
       "      <td>1</td>\n",
       "      <td>0</td>\n",
       "      <td>1</td>\n",
       "      <td>1</td>\n",
       "      <td>1</td>\n",
       "      <td>1</td>\n",
       "      <td>1</td>\n",
       "    </tr>\n",
       "    <tr>\n",
       "      <th>pooltypeid7</th>\n",
       "      <td>111846</td>\n",
       "      <td>1</td>\n",
       "      <td>0</td>\n",
       "      <td>1</td>\n",
       "      <td>1</td>\n",
       "      <td>1</td>\n",
       "      <td>1</td>\n",
       "      <td>1</td>\n",
       "    </tr>\n",
       "    <tr>\n",
       "      <th>rawcensustractandblock</th>\n",
       "      <td>483837</td>\n",
       "      <td>60491426</td>\n",
       "      <td>191586</td>\n",
       "      <td>60371011</td>\n",
       "      <td>60373007</td>\n",
       "      <td>60376213</td>\n",
       "      <td>60590525</td>\n",
       "      <td>61110088</td>\n",
       "    </tr>\n",
       "    <tr>\n",
       "      <th>regionidcity</th>\n",
       "      <td>473869</td>\n",
       "      <td>33517</td>\n",
       "      <td>38955</td>\n",
       "      <td>3491</td>\n",
       "      <td>12447</td>\n",
       "      <td>26964</td>\n",
       "      <td>46298</td>\n",
       "      <td>396556</td>\n",
       "    </tr>\n",
       "    <tr>\n",
       "      <th>regionidcounty</th>\n",
       "      <td>483837</td>\n",
       "      <td>2454</td>\n",
       "      <td>838</td>\n",
       "      <td>1286</td>\n",
       "      <td>1286</td>\n",
       "      <td>3101</td>\n",
       "      <td>3101</td>\n",
       "      <td>3101</td>\n",
       "    </tr>\n",
       "    <tr>\n",
       "      <th>regionidneighborhood</th>\n",
       "      <td>226481</td>\n",
       "      <td>199680</td>\n",
       "      <td>170900</td>\n",
       "      <td>6952</td>\n",
       "      <td>46736</td>\n",
       "      <td>268057</td>\n",
       "      <td>275426</td>\n",
       "      <td>764167</td>\n",
       "    </tr>\n",
       "    <tr>\n",
       "      <th>regionidzip</th>\n",
       "      <td>479631</td>\n",
       "      <td>96518</td>\n",
       "      <td>385</td>\n",
       "      <td>95983</td>\n",
       "      <td>96186</td>\n",
       "      <td>96385</td>\n",
       "      <td>96966</td>\n",
       "      <td>97330</td>\n",
       "    </tr>\n",
       "    <tr>\n",
       "      <th>roomcnt</th>\n",
       "      <td>483837</td>\n",
       "      <td>0</td>\n",
       "      <td>1</td>\n",
       "      <td>0</td>\n",
       "      <td>0</td>\n",
       "      <td>0</td>\n",
       "      <td>0</td>\n",
       "      <td>45</td>\n",
       "    </tr>\n",
       "    <tr>\n",
       "      <th>threequarterbathnbr</th>\n",
       "      <td>81041</td>\n",
       "      <td>1</td>\n",
       "      <td>0</td>\n",
       "      <td>1</td>\n",
       "      <td>1</td>\n",
       "      <td>1</td>\n",
       "      <td>1</td>\n",
       "      <td>2</td>\n",
       "    </tr>\n",
       "    <tr>\n",
       "      <th>unitcnt</th>\n",
       "      <td>293559</td>\n",
       "      <td>1</td>\n",
       "      <td>0</td>\n",
       "      <td>1</td>\n",
       "      <td>1</td>\n",
       "      <td>1</td>\n",
       "      <td>1</td>\n",
       "      <td>232</td>\n",
       "    </tr>\n",
       "    <tr>\n",
       "      <th>yardbuildingsqft17</th>\n",
       "      <td>6412</td>\n",
       "      <td>150</td>\n",
       "      <td>96</td>\n",
       "      <td>10</td>\n",
       "      <td>83</td>\n",
       "      <td>119</td>\n",
       "      <td>192</td>\n",
       "      <td>1232</td>\n",
       "    </tr>\n",
       "    <tr>\n",
       "      <th>yardbuildingsqft26</th>\n",
       "      <td>65</td>\n",
       "      <td>58</td>\n",
       "      <td>105</td>\n",
       "      <td>25</td>\n",
       "      <td>25</td>\n",
       "      <td>30</td>\n",
       "      <td>33</td>\n",
       "      <td>739</td>\n",
       "    </tr>\n",
       "    <tr>\n",
       "      <th>yearbuilt</th>\n",
       "      <td>480409</td>\n",
       "      <td>1984</td>\n",
       "      <td>14</td>\n",
       "      <td>1880</td>\n",
       "      <td>1975</td>\n",
       "      <td>1984</td>\n",
       "      <td>1992</td>\n",
       "      <td>2016</td>\n",
       "    </tr>\n",
       "    <tr>\n",
       "      <th>numberofstories</th>\n",
       "      <td>59231</td>\n",
       "      <td>1</td>\n",
       "      <td>0</td>\n",
       "      <td>1</td>\n",
       "      <td>1</td>\n",
       "      <td>1</td>\n",
       "      <td>2</td>\n",
       "      <td>20</td>\n",
       "    </tr>\n",
       "    <tr>\n",
       "      <th>fireplaceflag</th>\n",
       "      <td>2314</td>\n",
       "      <td>1</td>\n",
       "      <td>0</td>\n",
       "      <td>1</td>\n",
       "      <td>1</td>\n",
       "      <td>1</td>\n",
       "      <td>1</td>\n",
       "      <td>1</td>\n",
       "    </tr>\n",
       "    <tr>\n",
       "      <th>structuretaxvaluedollarcnt</th>\n",
       "      <td>482337</td>\n",
       "      <td>164569</td>\n",
       "      <td>142723</td>\n",
       "      <td>9</td>\n",
       "      <td>96514</td>\n",
       "      <td>138737</td>\n",
       "      <td>197691</td>\n",
       "      <td>13745782</td>\n",
       "    </tr>\n",
       "    <tr>\n",
       "      <th>taxvaluedollarcnt</th>\n",
       "      <td>483633</td>\n",
       "      <td>366718</td>\n",
       "      <td>321493</td>\n",
       "      <td>8</td>\n",
       "      <td>196428</td>\n",
       "      <td>302395</td>\n",
       "      <td>450940</td>\n",
       "      <td>28963479</td>\n",
       "    </tr>\n",
       "    <tr>\n",
       "      <th>assessmentyear</th>\n",
       "      <td>483837</td>\n",
       "      <td>2015</td>\n",
       "      <td>0</td>\n",
       "      <td>2014</td>\n",
       "      <td>2016</td>\n",
       "      <td>2016</td>\n",
       "      <td>2016</td>\n",
       "      <td>2016</td>\n",
       "    </tr>\n",
       "    <tr>\n",
       "      <th>landtaxvaluedollarcnt</th>\n",
       "      <td>483632</td>\n",
       "      <td>202590</td>\n",
       "      <td>230698</td>\n",
       "      <td>8</td>\n",
       "      <td>75480</td>\n",
       "      <td>151895</td>\n",
       "      <td>266403</td>\n",
       "      <td>23559121</td>\n",
       "    </tr>\n",
       "    <tr>\n",
       "      <th>taxamount</th>\n",
       "      <td>482782</td>\n",
       "      <td>4479</td>\n",
       "      <td>3893</td>\n",
       "      <td>12</td>\n",
       "      <td>2432</td>\n",
       "      <td>3654</td>\n",
       "      <td>5443</td>\n",
       "      <td>596632</td>\n",
       "    </tr>\n",
       "    <tr>\n",
       "      <th>taxdelinquencyyear</th>\n",
       "      <td>7651</td>\n",
       "      <td>14</td>\n",
       "      <td>2</td>\n",
       "      <td>0</td>\n",
       "      <td>14</td>\n",
       "      <td>14</td>\n",
       "      <td>15</td>\n",
       "      <td>98</td>\n",
       "    </tr>\n",
       "    <tr>\n",
       "      <th>censustractandblock</th>\n",
       "      <td>472295</td>\n",
       "      <td>60491005609106</td>\n",
       "      <td>192110600670</td>\n",
       "      <td>60371011101007</td>\n",
       "      <td>60373005022008</td>\n",
       "      <td>60376212041020</td>\n",
       "      <td>60590525114003</td>\n",
       "      <td>61110088002022</td>\n",
       "    </tr>\n",
       "    <tr>\n",
       "      <th>id</th>\n",
       "      <td>19342</td>\n",
       "      <td>38759</td>\n",
       "      <td>22484</td>\n",
       "      <td>4</td>\n",
       "      <td>19268</td>\n",
       "      <td>38642</td>\n",
       "      <td>58533</td>\n",
       "      <td>77608</td>\n",
       "    </tr>\n",
       "    <tr>\n",
       "      <th>logerror</th>\n",
       "      <td>19342</td>\n",
       "      <td>0</td>\n",
       "      <td>0</td>\n",
       "      <td>-3</td>\n",
       "      <td>0</td>\n",
       "      <td>0</td>\n",
       "      <td>0</td>\n",
       "      <td>3</td>\n",
       "    </tr>\n",
       "  </tbody>\n",
       "</table>\n",
       "</div>"
      ],
      "text/plain": [
       "                               count            mean           std  \\\n",
       "parcelid                      483837        14225634      13395488   \n",
       "typeconstructiontypeid          4089               6             0   \n",
       "storytypeid                       16               7             0   \n",
       "heatingorsystemtypeid         321319               3             5   \n",
       "architecturalstyletypeid        3669               7             2   \n",
       "airconditioningtypeid         233279               1             0   \n",
       "propertylandusetypeid         483837             266             0   \n",
       "id                            483837         1492971        860784   \n",
       "basementsqft                      16             443           169   \n",
       "bathroomcnt                   483837               2             0   \n",
       "bedroomcnt                    483837               2             0   \n",
       "buildingqualitytypeid         286661               7             1   \n",
       "calculatedbathnbr             480092               2             0   \n",
       "decktypeid                      3983              66             0   \n",
       "finishedfloor1squarefeet       30057             846           328   \n",
       "calculatedfinishedsquarefeet  480535            1303           547   \n",
       "finishedsquarefeet12          480271            1303           482   \n",
       "finishedsquarefeet15             208             936           290   \n",
       "finishedsquarefeet50           30057             847           329   \n",
       "finishedsquarefeet6               56            4241         24086   \n",
       "fips                          483837            6048            19   \n",
       "fireplacecnt                   19001               1             0   \n",
       "fullbathcnt                   480092               2             0   \n",
       "garagecarcnt                  170635               1             0   \n",
       "garagetotalsqft               170635               0             0   \n",
       "hashottuborspa                   703               1             0   \n",
       "latitude                      483837        33951682        240387   \n",
       "longitude                     483837      -118194964        364007   \n",
       "lotsizesquarefeet             290714          113203        212160   \n",
       "poolcnt                       112110               1             0   \n",
       "poolsizesum                       73             405           117   \n",
       "pooltypeid10                     557               1             0   \n",
       "pooltypeid2                      146               1             0   \n",
       "pooltypeid7                   111846               1             0   \n",
       "rawcensustractandblock        483837        60491426        191586   \n",
       "regionidcity                  473869           33517         38955   \n",
       "regionidcounty                483837            2454           838   \n",
       "regionidneighborhood          226481          199680        170900   \n",
       "regionidzip                   479631           96518           385   \n",
       "roomcnt                       483837               0             1   \n",
       "threequarterbathnbr            81041               1             0   \n",
       "unitcnt                       293559               1             0   \n",
       "yardbuildingsqft17              6412             150            96   \n",
       "yardbuildingsqft26                65              58           105   \n",
       "yearbuilt                     480409            1984            14   \n",
       "numberofstories                59231               1             0   \n",
       "fireplaceflag                   2314               1             0   \n",
       "structuretaxvaluedollarcnt    482337          164569        142723   \n",
       "taxvaluedollarcnt             483633          366718        321493   \n",
       "assessmentyear                483837            2015             0   \n",
       "landtaxvaluedollarcnt         483632          202590        230698   \n",
       "taxamount                     482782            4479          3893   \n",
       "taxdelinquencyyear              7651              14             2   \n",
       "censustractandblock           472295  60491005609106  192110600670   \n",
       "id                             19342           38759         22484   \n",
       "logerror                       19342               0             0   \n",
       "\n",
       "                                         min             25%             50%  \\\n",
       "parcelid                            10714522        11582473        12570713   \n",
       "typeconstructiontypeid                     4               6               6   \n",
       "storytypeid                                7               7               7   \n",
       "heatingorsystemtypeid                      1               2               2   \n",
       "architecturalstyletypeid                   2               7               7   \n",
       "airconditioningtypeid                      1               1               1   \n",
       "propertylandusetypeid                    266             266             266   \n",
       "id                                        14          746131         1492125   \n",
       "basementsqft                             104             330             539   \n",
       "bathroomcnt                                0               2               2   \n",
       "bedroomcnt                                 0               2               2   \n",
       "buildingqualitytypeid                      1               7               8   \n",
       "calculatedbathnbr                          1               2               2   \n",
       "decktypeid                                66              66              66   \n",
       "finishedfloor1squarefeet                  44             631             810   \n",
       "calculatedfinishedsquarefeet               1             980            1233   \n",
       "finishedsquarefeet12                       1             980            1233   \n",
       "finishedsquarefeet15                     462             691             883   \n",
       "finishedsquarefeet50                      44             631             810   \n",
       "finishedsquarefeet6                      388             475             490   \n",
       "fips                                    6037            6037            6037   \n",
       "fireplacecnt                               1               1               1   \n",
       "fullbathcnt                                1               2               2   \n",
       "garagecarcnt                               0               1               2   \n",
       "garagetotalsqft                            0               0               0   \n",
       "hashottuborspa                             1               1               1   \n",
       "latitude                            33339312        33756700        33988900   \n",
       "longitude                         -119302440      -118435278      -118214000   \n",
       "lotsizesquarefeet                        108           16140           43251   \n",
       "poolcnt                                    1               1               1   \n",
       "poolsizesum                              100             350             417   \n",
       "pooltypeid10                               1               1               1   \n",
       "pooltypeid2                                1               1               1   \n",
       "pooltypeid7                                1               1               1   \n",
       "rawcensustractandblock              60371011        60373007        60376213   \n",
       "regionidcity                            3491           12447           26964   \n",
       "regionidcounty                          1286            1286            3101   \n",
       "regionidneighborhood                    6952           46736          268057   \n",
       "regionidzip                            95983           96186           96385   \n",
       "roomcnt                                    0               0               0   \n",
       "threequarterbathnbr                        1               1               1   \n",
       "unitcnt                                    1               1               1   \n",
       "yardbuildingsqft17                        10              83             119   \n",
       "yardbuildingsqft26                        25              25              30   \n",
       "yearbuilt                               1880            1975            1984   \n",
       "numberofstories                            1               1               1   \n",
       "fireplaceflag                              1               1               1   \n",
       "structuretaxvaluedollarcnt                 9           96514          138737   \n",
       "taxvaluedollarcnt                          8          196428          302395   \n",
       "assessmentyear                          2014            2016            2016   \n",
       "landtaxvaluedollarcnt                      8           75480          151895   \n",
       "taxamount                                 12            2432            3654   \n",
       "taxdelinquencyyear                         0              14              14   \n",
       "censustractandblock           60371011101007  60373005022008  60376212041020   \n",
       "id                                         4           19268           38642   \n",
       "logerror                                  -3               0               0   \n",
       "\n",
       "                                         75%             max  \n",
       "parcelid                            14666180       168183267  \n",
       "typeconstructiontypeid                     6              13  \n",
       "storytypeid                                7               7  \n",
       "heatingorsystemtypeid                      2              24  \n",
       "architecturalstyletypeid                   7              27  \n",
       "airconditioningtypeid                      1              13  \n",
       "propertylandusetypeid                    266             266  \n",
       "id                                   2237380         2982283  \n",
       "basementsqft                             539             618  \n",
       "bathroomcnt                                3              18  \n",
       "bedroomcnt                                 3              24  \n",
       "buildingqualitytypeid                      8              12  \n",
       "calculatedbathnbr                          3              18  \n",
       "decktypeid                                66              66  \n",
       "finishedfloor1squarefeet                1027            4855  \n",
       "calculatedfinishedsquarefeet            1548          181129  \n",
       "finishedsquarefeet12                    1548           44657  \n",
       "finishedsquarefeet15                    1182            2339  \n",
       "finishedsquarefeet50                    1027            4855  \n",
       "finishedsquarefeet6                     1134          181129  \n",
       "fips                                    6059            6111  \n",
       "fireplacecnt                               1               3  \n",
       "fullbathcnt                                3              18  \n",
       "garagecarcnt                               2              15  \n",
       "garagetotalsqft                            0               0  \n",
       "hashottuborspa                             1               1  \n",
       "latitude                            34147700        34707400  \n",
       "longitude                         -117878659      -117560453  \n",
       "lotsizesquarefeet                     129610         3589145  \n",
       "poolcnt                                    1               1  \n",
       "poolsizesum                              481             739  \n",
       "pooltypeid10                               1               1  \n",
       "pooltypeid2                                1               1  \n",
       "pooltypeid7                                1               1  \n",
       "rawcensustractandblock              60590525        61110088  \n",
       "regionidcity                           46298          396556  \n",
       "regionidcounty                          3101            3101  \n",
       "regionidneighborhood                  275426          764167  \n",
       "regionidzip                            96966           97330  \n",
       "roomcnt                                    0              45  \n",
       "threequarterbathnbr                        1               2  \n",
       "unitcnt                                    1             232  \n",
       "yardbuildingsqft17                       192            1232  \n",
       "yardbuildingsqft26                        33             739  \n",
       "yearbuilt                               1992            2016  \n",
       "numberofstories                            2              20  \n",
       "fireplaceflag                              1               1  \n",
       "structuretaxvaluedollarcnt            197691        13745782  \n",
       "taxvaluedollarcnt                     450940        28963479  \n",
       "assessmentyear                          2016            2016  \n",
       "landtaxvaluedollarcnt                 266403        23559121  \n",
       "taxamount                               5443          596632  \n",
       "taxdelinquencyyear                        15              98  \n",
       "censustractandblock           60590525114003  61110088002022  \n",
       "id                                     58533           77608  \n",
       "logerror                                   0               3  "
      ]
     },
     "execution_count": 11,
     "metadata": {},
     "output_type": "execute_result"
    }
   ],
   "source": [
    "houses.describe().T.astype('int64')"
   ]
  },
  {
   "cell_type": "code",
   "execution_count": 12,
   "id": "274921c9",
   "metadata": {},
   "outputs": [
    {
     "data": {
      "text/plain": [
       "True"
      ]
     },
     "execution_count": 12,
     "metadata": {},
     "output_type": "execute_result"
    }
   ],
   "source": [
    "houses.columns.duplicated().any()"
   ]
  },
  {
   "cell_type": "code",
   "execution_count": 14,
   "id": "105f94e2",
   "metadata": {
    "scrolled": false
   },
   "outputs": [],
   "source": [
    "houses = houses.loc[:,~houses.T.duplicated(keep='first')]"
   ]
  },
  {
   "cell_type": "code",
   "execution_count": 15,
   "id": "9651ff45",
   "metadata": {
    "scrolled": true
   },
   "outputs": [
    {
     "data": {
      "text/html": [
       "<div>\n",
       "<style scoped>\n",
       "    .dataframe tbody tr th:only-of-type {\n",
       "        vertical-align: middle;\n",
       "    }\n",
       "\n",
       "    .dataframe tbody tr th {\n",
       "        vertical-align: top;\n",
       "    }\n",
       "\n",
       "    .dataframe thead th {\n",
       "        text-align: right;\n",
       "    }\n",
       "</style>\n",
       "<table border=\"1\" class=\"dataframe\">\n",
       "  <thead>\n",
       "    <tr style=\"text-align: right;\">\n",
       "      <th></th>\n",
       "      <th>parcelid</th>\n",
       "      <th>typeconstructiontypeid</th>\n",
       "      <th>storytypeid</th>\n",
       "      <th>heatingorsystemtypeid</th>\n",
       "      <th>buildingclasstypeid</th>\n",
       "      <th>architecturalstyletypeid</th>\n",
       "      <th>airconditioningtypeid</th>\n",
       "      <th>propertylandusetypeid</th>\n",
       "      <th>id</th>\n",
       "      <th>basementsqft</th>\n",
       "      <th>...</th>\n",
       "      <th>censustractandblock</th>\n",
       "      <th>propertylandusedesc</th>\n",
       "      <th>id</th>\n",
       "      <th>logerror</th>\n",
       "      <th>transactiondate</th>\n",
       "      <th>airconditioningdesc</th>\n",
       "      <th>architecturalstyledesc</th>\n",
       "      <th>heatingorsystemdesc</th>\n",
       "      <th>storydesc</th>\n",
       "      <th>typeconstructiondesc</th>\n",
       "    </tr>\n",
       "  </thead>\n",
       "  <tbody>\n",
       "    <tr>\n",
       "      <th>0</th>\n",
       "      <td>10859051</td>\n",
       "      <td>NaN</td>\n",
       "      <td>NaN</td>\n",
       "      <td>2.0</td>\n",
       "      <td>None</td>\n",
       "      <td>NaN</td>\n",
       "      <td>1.0</td>\n",
       "      <td>266.0</td>\n",
       "      <td>1853</td>\n",
       "      <td>NaN</td>\n",
       "      <td>...</td>\n",
       "      <td>6.037141e+13</td>\n",
       "      <td>Condominium</td>\n",
       "      <td>212.0</td>\n",
       "      <td>0.026735</td>\n",
       "      <td>2017-01-03</td>\n",
       "      <td>Central</td>\n",
       "      <td>None</td>\n",
       "      <td>Central</td>\n",
       "      <td>None</td>\n",
       "      <td>None</td>\n",
       "    </tr>\n",
       "    <tr>\n",
       "      <th>1</th>\n",
       "      <td>12859120</td>\n",
       "      <td>NaN</td>\n",
       "      <td>NaN</td>\n",
       "      <td>2.0</td>\n",
       "      <td>None</td>\n",
       "      <td>NaN</td>\n",
       "      <td>1.0</td>\n",
       "      <td>266.0</td>\n",
       "      <td>9323</td>\n",
       "      <td>NaN</td>\n",
       "      <td>...</td>\n",
       "      <td>6.037403e+13</td>\n",
       "      <td>Condominium</td>\n",
       "      <td>369.0</td>\n",
       "      <td>-0.017184</td>\n",
       "      <td>2017-01-03</td>\n",
       "      <td>Central</td>\n",
       "      <td>None</td>\n",
       "      <td>Central</td>\n",
       "      <td>None</td>\n",
       "      <td>None</td>\n",
       "    </tr>\n",
       "    <tr>\n",
       "      <th>2</th>\n",
       "      <td>14632619</td>\n",
       "      <td>NaN</td>\n",
       "      <td>NaN</td>\n",
       "      <td>NaN</td>\n",
       "      <td>None</td>\n",
       "      <td>NaN</td>\n",
       "      <td>NaN</td>\n",
       "      <td>266.0</td>\n",
       "      <td>13031</td>\n",
       "      <td>NaN</td>\n",
       "      <td>...</td>\n",
       "      <td>6.059032e+13</td>\n",
       "      <td>Condominium</td>\n",
       "      <td>3245.0</td>\n",
       "      <td>-0.064174</td>\n",
       "      <td>2017-01-17</td>\n",
       "      <td>None</td>\n",
       "      <td>None</td>\n",
       "      <td>None</td>\n",
       "      <td>None</td>\n",
       "      <td>None</td>\n",
       "    </tr>\n",
       "    <tr>\n",
       "      <th>3</th>\n",
       "      <td>11052658</td>\n",
       "      <td>NaN</td>\n",
       "      <td>NaN</td>\n",
       "      <td>2.0</td>\n",
       "      <td>None</td>\n",
       "      <td>NaN</td>\n",
       "      <td>1.0</td>\n",
       "      <td>266.0</td>\n",
       "      <td>17568</td>\n",
       "      <td>NaN</td>\n",
       "      <td>...</td>\n",
       "      <td>6.037117e+13</td>\n",
       "      <td>Condominium</td>\n",
       "      <td>400.0</td>\n",
       "      <td>-0.005658</td>\n",
       "      <td>2017-01-03</td>\n",
       "      <td>Central</td>\n",
       "      <td>None</td>\n",
       "      <td>Central</td>\n",
       "      <td>None</td>\n",
       "      <td>None</td>\n",
       "    </tr>\n",
       "    <tr>\n",
       "      <th>4</th>\n",
       "      <td>11270466</td>\n",
       "      <td>NaN</td>\n",
       "      <td>NaN</td>\n",
       "      <td>2.0</td>\n",
       "      <td>None</td>\n",
       "      <td>NaN</td>\n",
       "      <td>1.0</td>\n",
       "      <td>266.0</td>\n",
       "      <td>18257</td>\n",
       "      <td>NaN</td>\n",
       "      <td>...</td>\n",
       "      <td>6.037901e+13</td>\n",
       "      <td>Condominium</td>\n",
       "      <td>596.0</td>\n",
       "      <td>1.174471</td>\n",
       "      <td>2017-01-04</td>\n",
       "      <td>Central</td>\n",
       "      <td>None</td>\n",
       "      <td>Central</td>\n",
       "      <td>None</td>\n",
       "      <td>None</td>\n",
       "    </tr>\n",
       "  </tbody>\n",
       "</table>\n",
       "<p>5 rows × 67 columns</p>\n",
       "</div>"
      ],
      "text/plain": [
       "   parcelid  typeconstructiontypeid  storytypeid  heatingorsystemtypeid  \\\n",
       "0  10859051                     NaN          NaN                    2.0   \n",
       "1  12859120                     NaN          NaN                    2.0   \n",
       "2  14632619                     NaN          NaN                    NaN   \n",
       "3  11052658                     NaN          NaN                    2.0   \n",
       "4  11270466                     NaN          NaN                    2.0   \n",
       "\n",
       "  buildingclasstypeid  architecturalstyletypeid  airconditioningtypeid  \\\n",
       "0                None                       NaN                    1.0   \n",
       "1                None                       NaN                    1.0   \n",
       "2                None                       NaN                    NaN   \n",
       "3                None                       NaN                    1.0   \n",
       "4                None                       NaN                    1.0   \n",
       "\n",
       "   propertylandusetypeid     id  basementsqft  ...  censustractandblock  \\\n",
       "0                  266.0   1853           NaN  ...         6.037141e+13   \n",
       "1                  266.0   9323           NaN  ...         6.037403e+13   \n",
       "2                  266.0  13031           NaN  ...         6.059032e+13   \n",
       "3                  266.0  17568           NaN  ...         6.037117e+13   \n",
       "4                  266.0  18257           NaN  ...         6.037901e+13   \n",
       "\n",
       "   propertylandusedesc      id  logerror  transactiondate  \\\n",
       "0          Condominium   212.0  0.026735       2017-01-03   \n",
       "1          Condominium   369.0 -0.017184       2017-01-03   \n",
       "2          Condominium  3245.0 -0.064174       2017-01-17   \n",
       "3          Condominium   400.0 -0.005658       2017-01-03   \n",
       "4          Condominium   596.0  1.174471       2017-01-04   \n",
       "\n",
       "   airconditioningdesc  architecturalstyledesc  heatingorsystemdesc  \\\n",
       "0              Central                    None              Central   \n",
       "1              Central                    None              Central   \n",
       "2                 None                    None                 None   \n",
       "3              Central                    None              Central   \n",
       "4              Central                    None              Central   \n",
       "\n",
       "   storydesc  typeconstructiondesc  \n",
       "0       None                  None  \n",
       "1       None                  None  \n",
       "2       None                  None  \n",
       "3       None                  None  \n",
       "4       None                  None  \n",
       "\n",
       "[5 rows x 67 columns]"
      ]
     },
     "execution_count": 15,
     "metadata": {},
     "output_type": "execute_result"
    }
   ],
   "source": [
    "houses.head()"
   ]
  },
  {
   "cell_type": "code",
   "execution_count": 16,
   "id": "e7127c06",
   "metadata": {},
   "outputs": [
    {
     "data": {
      "text/plain": [
       "True"
      ]
     },
     "execution_count": 16,
     "metadata": {},
     "output_type": "execute_result"
    }
   ],
   "source": [
    "houses.columns.duplicated().any()"
   ]
  },
  {
   "cell_type": "code",
   "execution_count": 18,
   "id": "9de8a07a",
   "metadata": {},
   "outputs": [],
   "source": [
    "cols=pd.Series(houses.columns)\n",
    "for dup in houses.columns[houses.columns.duplicated(keep=False)]: \n",
    "    cols[houses.columns.get_loc(dup)] = ([dup + '_' + str(d_idx) \n",
    "                                     if d_idx != 0 \n",
    "                                     else dup \n",
    "                                     for d_idx in range(houses.columns.get_loc(dup).sum())]\n",
    "                                    )\n",
    "houses.columns=cols"
   ]
  },
  {
   "cell_type": "code",
   "execution_count": 19,
   "id": "ae8bf726",
   "metadata": {},
   "outputs": [
    {
     "data": {
      "text/plain": [
       "['parcelid',\n",
       " 'typeconstructiontypeid',\n",
       " 'storytypeid',\n",
       " 'heatingorsystemtypeid',\n",
       " 'buildingclasstypeid',\n",
       " 'architecturalstyletypeid',\n",
       " 'airconditioningtypeid',\n",
       " 'propertylandusetypeid',\n",
       " 'id',\n",
       " 'basementsqft',\n",
       " 'bathroomcnt',\n",
       " 'bedroomcnt',\n",
       " 'buildingqualitytypeid',\n",
       " 'calculatedbathnbr',\n",
       " 'decktypeid',\n",
       " 'finishedfloor1squarefeet',\n",
       " 'calculatedfinishedsquarefeet',\n",
       " 'finishedsquarefeet12',\n",
       " 'finishedsquarefeet15',\n",
       " 'finishedsquarefeet50',\n",
       " 'finishedsquarefeet6',\n",
       " 'fips',\n",
       " 'fireplacecnt',\n",
       " 'fullbathcnt',\n",
       " 'garagecarcnt',\n",
       " 'garagetotalsqft',\n",
       " 'hashottuborspa',\n",
       " 'latitude',\n",
       " 'longitude',\n",
       " 'lotsizesquarefeet',\n",
       " 'poolcnt',\n",
       " 'poolsizesum',\n",
       " 'pooltypeid10',\n",
       " 'pooltypeid2',\n",
       " 'pooltypeid7',\n",
       " 'propertycountylandusecode',\n",
       " 'propertyzoningdesc',\n",
       " 'rawcensustractandblock',\n",
       " 'regionidcity',\n",
       " 'regionidcounty',\n",
       " 'regionidneighborhood',\n",
       " 'regionidzip',\n",
       " 'roomcnt',\n",
       " 'threequarterbathnbr',\n",
       " 'unitcnt',\n",
       " 'yardbuildingsqft17',\n",
       " 'yardbuildingsqft26',\n",
       " 'yearbuilt',\n",
       " 'numberofstories',\n",
       " 'fireplaceflag',\n",
       " 'structuretaxvaluedollarcnt',\n",
       " 'taxvaluedollarcnt',\n",
       " 'assessmentyear',\n",
       " 'landtaxvaluedollarcnt',\n",
       " 'taxamount',\n",
       " 'taxdelinquencyflag',\n",
       " 'taxdelinquencyyear',\n",
       " 'censustractandblock',\n",
       " 'propertylandusedesc',\n",
       " 'id_1',\n",
       " 'logerror',\n",
       " 'transactiondate',\n",
       " 'airconditioningdesc',\n",
       " 'architecturalstyledesc',\n",
       " 'heatingorsystemdesc',\n",
       " 'storydesc',\n",
       " 'typeconstructiondesc']"
      ]
     },
     "execution_count": 19,
     "metadata": {},
     "output_type": "execute_result"
    }
   ],
   "source": [
    "houses.columns.tolist()"
   ]
  },
  {
   "cell_type": "code",
   "execution_count": 21,
   "id": "aecadbb1",
   "metadata": {
    "scrolled": false
   },
   "outputs": [
    {
     "data": {
      "text/plain": [
       "parcelid                      1\n",
       "structuretaxvaluedollarcnt    1\n",
       "propertyzoningdesc            1\n",
       "rawcensustractandblock        1\n",
       "regionidcity                  1\n",
       "                             ..\n",
       "longitude                     1\n",
       "lotsizesquarefeet             1\n",
       "poolcnt                       1\n",
       "poolsizesum                   1\n",
       "typeconstructiondesc          1\n",
       "Length: 67, dtype: int64"
      ]
     },
     "execution_count": 21,
     "metadata": {},
     "output_type": "execute_result"
    }
   ],
   "source": [
    "houses.columns.value_counts()"
   ]
  },
  {
   "cell_type": "code",
   "execution_count": 24,
   "id": "3617327b",
   "metadata": {
    "collapsed": true
   },
   "outputs": [
    {
     "name": "stdout",
     "output_type": "stream",
     "text": [
      "parcelid\n",
      "12068159    2\n",
      "12641353    2\n",
      "14634203    2\n",
      "12541155    2\n",
      "10777937    2\n",
      "           ..\n",
      "14743165    1\n",
      "14742843    1\n",
      "14742420    1\n",
      "14737462    1\n",
      "14675114    1\n",
      "Name: parcelid, Length: 483789, dtype: int64\n",
      "\n",
      "##########################\n",
      "\n",
      "typeconstructiontypeid\n",
      "6.0     4054\n",
      "4.0       21\n",
      "13.0      11\n",
      "10.0       3\n",
      "Name: typeconstructiontypeid, dtype: int64\n",
      "\n",
      "##########################\n",
      "\n",
      "storytypeid\n",
      "7.0    16\n",
      "Name: storytypeid, dtype: int64\n",
      "\n",
      "##########################\n",
      "\n",
      "heatingorsystemtypeid\n",
      "2.0     271629\n",
      "24.0     21086\n",
      "7.0      19949\n",
      "6.0       6677\n",
      "13.0       903\n",
      "18.0       449\n",
      "20.0       444\n",
      "1.0        120\n",
      "12.0        25\n",
      "10.0        21\n",
      "11.0        12\n",
      "21.0         3\n",
      "19.0         1\n",
      "Name: heatingorsystemtypeid, dtype: int64\n",
      "\n",
      "##########################\n",
      "\n",
      "buildingclasstypeid\n",
      "Series([], Name: buildingclasstypeid, dtype: int64)\n",
      "\n",
      "##########################\n",
      "\n",
      "architecturalstyletypeid\n",
      "7.0     3128\n",
      "8.0      335\n",
      "2.0      106\n",
      "21.0      74\n",
      "3.0       16\n",
      "5.0        9\n",
      "27.0       1\n",
      "Name: architecturalstyletypeid, dtype: int64\n",
      "\n",
      "##########################\n",
      "\n",
      "airconditioningtypeid\n",
      "1.0     231932\n",
      "11.0       916\n",
      "5.0        403\n",
      "12.0        13\n",
      "9.0          8\n",
      "13.0         5\n",
      "3.0          2\n",
      "Name: airconditioningtypeid, dtype: int64\n",
      "\n",
      "##########################\n",
      "\n",
      "propertylandusetypeid\n",
      "266.0    483837\n",
      "Name: propertylandusetypeid, dtype: int64\n",
      "\n",
      "##########################\n",
      "\n",
      "id\n",
      "572840     2\n",
      "888220     2\n",
      "2026522    2\n",
      "380834     2\n",
      "329609     2\n",
      "          ..\n",
      "1922601    1\n",
      "1922599    1\n",
      "1922595    1\n",
      "1922566    1\n",
      "2982276    1\n",
      "Name: id, Length: 483789, dtype: int64\n",
      "\n",
      "##########################\n",
      "\n",
      "basementsqft\n",
      "539.0    5\n",
      "330.0    4\n",
      "104.0    2\n",
      "618.0    2\n",
      "473.0    1\n",
      "616.0    1\n",
      "540.0    1\n",
      "Name: basementsqft, dtype: int64\n",
      "\n",
      "##########################\n",
      "\n",
      "bathroomcnt\n",
      "2.0     187481\n",
      "3.0     124494\n",
      "1.0      79116\n",
      "2.5      63874\n",
      "1.5      13393\n",
      "4.0       7330\n",
      "0.0       3734\n",
      "3.5       3244\n",
      "5.0        590\n",
      "4.5        339\n",
      "6.0        127\n",
      "5.5         52\n",
      "7.0         26\n",
      "6.5         10\n",
      "8.0          7\n",
      "12.0         5\n",
      "9.0          4\n",
      "16.0         2\n",
      "11.0         2\n",
      "10.0         2\n",
      "13.0         1\n",
      "18.0         1\n",
      "17.0         1\n",
      "15.0         1\n",
      "14.0         1\n",
      "Name: bathroomcnt, dtype: int64\n",
      "\n",
      "##########################\n",
      "\n",
      "bedroomcnt\n",
      "2.0     241600\n",
      "3.0     149686\n",
      "1.0      61308\n",
      "4.0      21663\n",
      "0.0       8284\n",
      "5.0       1233\n",
      "6.0         42\n",
      "8.0          7\n",
      "9.0          6\n",
      "7.0          2\n",
      "16.0         1\n",
      "11.0         1\n",
      "24.0         1\n",
      "17.0         1\n",
      "12.0         1\n",
      "20.0         1\n",
      "Name: bedroomcnt, dtype: int64\n",
      "\n",
      "##########################\n",
      "\n",
      "buildingqualitytypeid\n",
      "8.0     132420\n",
      "6.0      61053\n",
      "7.0      53207\n",
      "9.0      25986\n",
      "11.0      7711\n",
      "4.0       3412\n",
      "10.0      2044\n",
      "12.0       627\n",
      "1.0        189\n",
      "5.0         12\n",
      "Name: buildingqualitytypeid, dtype: int64\n",
      "\n",
      "##########################\n",
      "\n",
      "calculatedbathnbr\n",
      "2.0     187481\n",
      "3.0     124494\n",
      "1.0      79116\n",
      "2.5      63872\n",
      "1.5      13384\n",
      "4.0       7330\n",
      "3.5       3244\n",
      "5.0        590\n",
      "4.5        339\n",
      "6.0        127\n",
      "5.5         52\n",
      "7.0         26\n",
      "6.5         10\n",
      "8.0          7\n",
      "12.0         5\n",
      "9.0          4\n",
      "10.0         2\n",
      "16.0         2\n",
      "11.0         2\n",
      "15.0         1\n",
      "13.0         1\n",
      "17.0         1\n",
      "18.0         1\n",
      "14.0         1\n",
      "Name: calculatedbathnbr, dtype: int64\n",
      "\n",
      "##########################\n",
      "\n",
      "decktypeid\n",
      "66.0    3983\n",
      "Name: decktypeid, dtype: int64\n",
      "\n",
      "##########################\n",
      "\n",
      "finishedfloor1squarefeet\n",
      "441.0     515\n",
      "428.0     366\n",
      "856.0     298\n",
      "810.0     272\n",
      "806.0     237\n",
      "         ... \n",
      "1467.0      1\n",
      "293.0       1\n",
      "797.0       1\n",
      "1444.0      1\n",
      "1003.0      1\n",
      "Name: finishedfloor1squarefeet, Length: 932, dtype: int64\n",
      "\n",
      "##########################\n",
      "\n",
      "calculatedfinishedsquarefeet\n",
      "1190.0    1409\n",
      "920.0     1398\n",
      "960.0     1166\n",
      "882.0     1136\n",
      "910.0     1109\n",
      "          ... \n",
      "193.0        1\n",
      "4624.0       1\n",
      "4483.0       1\n",
      "2862.0       1\n",
      "5256.0       1\n",
      "Name: calculatedfinishedsquarefeet, Length: 3503, dtype: int64\n",
      "\n",
      "##########################\n",
      "\n",
      "finishedsquarefeet12\n",
      "1190.0    1409\n",
      "920.0     1398\n",
      "960.0     1166\n",
      "882.0     1136\n",
      "910.0     1109\n",
      "          ... \n",
      "2862.0       1\n",
      "3525.0       1\n",
      "3309.0       1\n",
      "3398.0       1\n",
      "5256.0       1\n",
      "Name: finishedsquarefeet12, Length: 3500, dtype: int64\n",
      "\n",
      "##########################\n",
      "\n",
      "finishedsquarefeet15\n",
      "1182.0    11\n",
      "744.0     11\n",
      "883.0     10\n",
      "608.0      9\n",
      "893.0      9\n",
      "          ..\n",
      "813.0      1\n",
      "1180.0     1\n",
      "806.0      1\n",
      "687.0      1\n",
      "1227.0     1\n",
      "Name: finishedsquarefeet15, Length: 65, dtype: int64\n",
      "\n",
      "##########################\n",
      "\n",
      "finishedsquarefeet50\n",
      "441.0     515\n",
      "428.0     366\n",
      "856.0     298\n",
      "810.0     272\n",
      "806.0     237\n",
      "         ... \n",
      "1372.0      1\n",
      "787.0       1\n",
      "66.0        1\n",
      "1287.0      1\n",
      "1003.0      1\n",
      "Name: finishedsquarefeet50, Length: 943, dtype: int64\n",
      "\n",
      "##########################\n",
      "\n",
      "finishedsquarefeet6\n",
      "490.0       12\n",
      "475.0        8\n",
      "899.0        7\n",
      "420.0        4\n",
      "430.0        2\n",
      "719.0        1\n",
      "873.0        1\n",
      "3781.0       1\n",
      "1518.0       1\n",
      "1370.0       1\n",
      "889.0        1\n",
      "458.0        1\n",
      "1316.0       1\n",
      "3551.0       1\n",
      "3010.0       1\n",
      "1250.0       1\n",
      "1112.0       1\n",
      "753.0        1\n",
      "393.0        1\n",
      "181129.0     1\n",
      "1910.0       1\n",
      "1202.0       1\n",
      "2636.0       1\n",
      "3780.0       1\n",
      "388.0        1\n",
      "2689.0       1\n",
      "392.0        1\n",
      "3901.0       1\n",
      "Name: finishedsquarefeet6, dtype: int64\n",
      "\n",
      "##########################\n",
      "\n",
      "fips\n",
      "6037.0    297951\n",
      "6059.0    154140\n",
      "6111.0     31746\n",
      "Name: fips, dtype: int64\n",
      "\n",
      "##########################\n",
      "\n",
      "fireplacecnt\n",
      "1.0    18139\n",
      "2.0      808\n",
      "3.0       54\n",
      "Name: fireplacecnt, dtype: int64\n",
      "\n",
      "##########################\n",
      "\n",
      "fullbathcnt\n",
      "2.0     251462\n",
      "3.0     127625\n",
      "1.0      92511\n",
      "4.0       7664\n",
      "5.0        640\n",
      "6.0        137\n",
      "7.0         26\n",
      "8.0          7\n",
      "12.0         5\n",
      "9.0          4\n",
      "16.0         2\n",
      "11.0         2\n",
      "10.0         2\n",
      "13.0         1\n",
      "18.0         1\n",
      "17.0         1\n",
      "15.0         1\n",
      "14.0         1\n",
      "Name: fullbathcnt, dtype: int64\n",
      "\n",
      "##########################\n",
      "\n",
      "garagecarcnt\n",
      "2.0     90551\n",
      "1.0     79312\n",
      "3.0       346\n",
      "0.0       296\n",
      "4.0       109\n",
      "7.0         9\n",
      "6.0         7\n",
      "5.0         2\n",
      "15.0        1\n",
      "13.0        1\n",
      "8.0         1\n",
      "Name: garagecarcnt, dtype: int64\n",
      "\n",
      "##########################\n",
      "\n",
      "garagetotalsqft\n",
      "0.0    170635\n",
      "Name: garagetotalsqft, dtype: int64\n",
      "\n",
      "##########################\n",
      "\n",
      "hashottuborspa\n",
      "1.0    703\n",
      "Name: hashottuborspa, dtype: int64\n",
      "\n",
      "##########################\n",
      "\n",
      "latitude\n",
      "33984600.0    830\n",
      "34056700.0    735\n",
      "33766300.0    565\n",
      "33785200.0    554\n",
      "34169800.0    545\n",
      "             ... \n",
      "34150177.0      1\n",
      "33764587.0      1\n",
      "34100203.0      1\n",
      "33851715.0      1\n",
      "33697111.0      1\n",
      "Name: latitude, Length: 86495, dtype: int64\n",
      "\n",
      "##########################\n",
      "\n",
      "longitude\n",
      "-118390000.0    1703\n",
      "-118438000.0    1580\n",
      "-118389000.0    1565\n",
      "-118433000.0    1538\n",
      "-118252000.0    1394\n",
      "                ... \n",
      "-117744475.0       1\n",
      "-117729366.0       1\n",
      "-117602952.0       1\n",
      "-119198445.0       1\n",
      "-117712186.0       1\n",
      "Name: longitude, Length: 86072, dtype: int64\n",
      "\n",
      "##########################\n",
      "\n",
      "lotsizesquarefeet\n",
      "1742.0    1599\n",
      "3049.0    1195\n",
      "2613.0    1098\n",
      "2178.0    1049\n",
      "1306.0     925\n",
      "          ... \n",
      "3523.0       1\n",
      "1027.0       1\n",
      "713.0        1\n",
      "4622.0       1\n",
      "2479.0       1\n",
      "Name: lotsizesquarefeet, Length: 12860, dtype: int64\n",
      "\n",
      "##########################\n",
      "\n",
      "poolcnt\n",
      "1.0    112110\n",
      "Name: poolcnt, dtype: int64\n",
      "\n",
      "##########################\n",
      "\n",
      "poolsizesum\n",
      "450.0    7\n",
      "500.0    3\n",
      "350.0    2\n",
      "364.0    2\n",
      "250.0    2\n",
      "480.0    2\n",
      "512.0    2\n",
      "560.0    2\n",
      "516.0    1\n",
      "620.0    1\n",
      "396.0    1\n",
      "452.0    1\n",
      "448.0    1\n",
      "410.0    1\n",
      "288.0    1\n",
      "420.0    1\n",
      "367.0    1\n",
      "505.0    1\n",
      "325.0    1\n",
      "282.0    1\n",
      "388.0    1\n",
      "200.0    1\n",
      "495.0    1\n",
      "487.0    1\n",
      "481.0    1\n",
      "171.0    1\n",
      "295.0    1\n",
      "234.0    1\n",
      "417.0    1\n",
      "456.0    1\n",
      "326.0    1\n",
      "600.0    1\n",
      "446.0    1\n",
      "276.0    1\n",
      "431.0    1\n",
      "356.0    1\n",
      "406.0    1\n",
      "270.0    1\n",
      "489.0    1\n",
      "550.0    1\n",
      "220.0    1\n",
      "378.0    1\n",
      "518.0    1\n",
      "370.0    1\n",
      "576.0    1\n",
      "476.0    1\n",
      "198.0    1\n",
      "240.0    1\n",
      "380.0    1\n",
      "390.0    1\n",
      "300.0    1\n",
      "739.0    1\n",
      "400.0    1\n",
      "392.0    1\n",
      "463.0    1\n",
      "408.0    1\n",
      "413.0    1\n",
      "180.0    1\n",
      "100.0    1\n",
      "Name: poolsizesum, dtype: int64\n",
      "\n",
      "##########################\n",
      "\n",
      "pooltypeid10\n",
      "1.0    557\n",
      "Name: pooltypeid10, dtype: int64\n",
      "\n",
      "##########################\n",
      "\n",
      "pooltypeid2\n",
      "1.0    146\n",
      "Name: pooltypeid2, dtype: int64\n",
      "\n",
      "##########################\n",
      "\n",
      "pooltypeid7\n",
      "1.0    111846\n",
      "Name: pooltypeid7, dtype: int64\n",
      "\n",
      "##########################\n",
      "\n",
      "propertycountylandusecode\n",
      "010C    225975\n",
      "34      123259\n",
      "010E     51067\n",
      "1129     31734\n",
      "1        30827\n",
      "012C      8527\n",
      "01DC      6807\n",
      "01HC      2847\n",
      "010H      2310\n",
      "01HE       206\n",
      "010V        81\n",
      "300V        79\n",
      "100V        21\n",
      "3           14\n",
      "011C         8\n",
      "8800         7\n",
      "0            7\n",
      "1014         6\n",
      "5            5\n",
      "01DE         5\n",
      "01DG         4\n",
      "01DD         4\n",
      "1011         2\n",
      "1012         2\n",
      "1013         2\n",
      "8            2\n",
      "4            2\n",
      "020V         1\n",
      "880V         1\n",
      "Name: propertycountylandusecode, dtype: int64\n",
      "\n",
      "##########################\n",
      "\n",
      "propertyzoningdesc\n",
      "LAR3          50218\n",
      "LARD1.5       15888\n",
      "LARD2         10320\n",
      "LAR4           8042\n",
      "LARD3          7032\n",
      "              ...  \n",
      "WCMFI0*           1\n",
      "LOPR-MD           1\n",
      "LCR110000*        1\n",
      "010E              1\n",
      "LORCD12OO*        1\n",
      "Name: propertyzoningdesc, Length: 1265, dtype: int64\n",
      "\n",
      "##########################\n",
      "\n",
      "rawcensustractandblock\n",
      "6.059052e+07    1063\n",
      "6.059063e+07     895\n",
      "6.037137e+07     886\n",
      "6.037274e+07     812\n",
      "6.037277e+07     800\n",
      "                ... \n",
      "6.037401e+07       1\n",
      "6.037462e+07       1\n",
      "6.059063e+07       1\n",
      "6.059011e+07       1\n",
      "6.037212e+07       1\n",
      "Name: rawcensustractandblock, Length: 11680, dtype: int64\n",
      "\n",
      "##########################\n",
      "\n",
      "regionidcity\n",
      "12447.0     118563\n",
      "52650.0      25529\n",
      "46298.0      18264\n",
      "54311.0      12916\n",
      "25218.0      10052\n",
      "             ...  \n",
      "14906.0          2\n",
      "47913.0          2\n",
      "54299.0          1\n",
      "118914.0         1\n",
      "40081.0          1\n",
      "Name: regionidcity, Length: 157, dtype: int64\n",
      "\n",
      "##########################\n",
      "\n",
      "regionidcounty\n",
      "3101.0    297951\n",
      "1286.0    154140\n",
      "2061.0     31746\n",
      "Name: regionidcounty, dtype: int64\n",
      "\n",
      "##########################\n",
      "\n",
      "regionidneighborhood\n",
      "118920.0    6883\n",
      "27080.0     5333\n",
      "276119.0    4925\n",
      "37739.0     4399\n",
      "275405.0    4201\n",
      "            ... \n",
      "623381.0       1\n",
      "416337.0       1\n",
      "273197.0       1\n",
      "273350.0       1\n",
      "275824.0       1\n",
      "Name: regionidneighborhood, Length: 382, dtype: int64\n",
      "\n",
      "##########################\n",
      "\n",
      "regionidzip\n",
      "96974.0    9397\n",
      "96236.0    7892\n",
      "96987.0    6371\n",
      "96963.0    6211\n",
      "96005.0    6089\n",
      "           ... \n",
      "95983.0       2\n",
      "96296.0       1\n",
      "97096.0       1\n",
      "96951.0       1\n",
      "96034.0       1\n",
      "Name: regionidzip, Length: 371, dtype: int64\n",
      "\n",
      "##########################\n",
      "\n",
      "roomcnt\n",
      "0.0     420876\n",
      "5.0      22587\n",
      "4.0      18384\n",
      "6.0      12357\n",
      "7.0       4657\n",
      "3.0       2520\n",
      "8.0       1725\n",
      "9.0        632\n",
      "10.0        62\n",
      "2.0         29\n",
      "1.0          4\n",
      "12.0         1\n",
      "11.0         1\n",
      "45.0         1\n",
      "16.0         1\n",
      "Name: roomcnt, dtype: int64\n",
      "\n",
      "##########################\n",
      "\n",
      "threequarterbathnbr\n"
     ]
    },
    {
     "name": "stdout",
     "output_type": "stream",
     "text": [
      "1.0    80901\n",
      "2.0      140\n",
      "Name: threequarterbathnbr, dtype: int64\n",
      "\n",
      "##########################\n",
      "\n",
      "unitcnt\n",
      "1.0      293411\n",
      "2.0          88\n",
      "3.0          14\n",
      "4.0          13\n",
      "6.0           7\n",
      "7.0           4\n",
      "13.0          3\n",
      "12.0          3\n",
      "5.0           3\n",
      "10.0          2\n",
      "9.0           2\n",
      "32.0          1\n",
      "8.0           1\n",
      "11.0          1\n",
      "14.0          1\n",
      "232.0         1\n",
      "27.0          1\n",
      "18.0          1\n",
      "63.0          1\n",
      "70.0          1\n",
      "Name: unitcnt, dtype: int64\n",
      "\n",
      "##########################\n",
      "\n",
      "yardbuildingsqft17\n",
      "80.0     305\n",
      "98.0     206\n",
      "72.0     189\n",
      "84.0     185\n",
      "120.0    164\n",
      "        ... \n",
      "349.0      1\n",
      "111.0      1\n",
      "324.0      1\n",
      "181.0      1\n",
      "525.0      1\n",
      "Name: yardbuildingsqft17, Length: 334, dtype: int64\n",
      "\n",
      "##########################\n",
      "\n",
      "yardbuildingsqft26\n",
      "25.0     23\n",
      "33.0     18\n",
      "30.0     11\n",
      "32.0      2\n",
      "171.0     1\n",
      "100.0     1\n",
      "344.0     1\n",
      "361.0     1\n",
      "116.0     1\n",
      "170.0     1\n",
      "88.0      1\n",
      "49.0      1\n",
      "739.0     1\n",
      "35.0      1\n",
      "50.0      1\n",
      "Name: yardbuildingsqft26, dtype: int64\n",
      "\n",
      "##########################\n",
      "\n",
      "yearbuilt\n",
      "1980.0    21287\n",
      "1973.0    20568\n",
      "1989.0    20365\n",
      "1981.0    20098\n",
      "1979.0    18847\n",
      "          ...  \n",
      "1888.0        1\n",
      "1908.0        1\n",
      "1899.0        1\n",
      "1880.0        1\n",
      "1900.0        1\n",
      "Name: yearbuilt, Length: 119, dtype: int64\n",
      "\n",
      "##########################\n",
      "\n",
      "numberofstories\n",
      "1.0     29830\n",
      "2.0     28205\n",
      "3.0      1193\n",
      "4.0         2\n",
      "20.0        1\n",
      "Name: numberofstories, dtype: int64\n",
      "\n",
      "##########################\n",
      "\n",
      "fireplaceflag\n",
      "1.0    2314\n",
      "Name: fireplaceflag, dtype: int64\n",
      "\n",
      "##########################\n",
      "\n",
      "structuretaxvaluedollarcnt\n",
      "106103.0    353\n",
      "100000.0    334\n",
      "109038.0    322\n",
      "85497.0     300\n",
      "103000.0    288\n",
      "           ... \n",
      "149825.0      1\n",
      "484079.0      1\n",
      "148062.0      1\n",
      "126892.0      1\n",
      "198185.0      1\n",
      "Name: structuretaxvaluedollarcnt, Length: 147631, dtype: int64\n",
      "\n",
      "##########################\n",
      "\n",
      "taxvaluedollarcnt\n",
      "320000.0    410\n",
      "350000.0    401\n",
      "330000.0    377\n",
      "300000.0    375\n",
      "390000.0    370\n",
      "           ... \n",
      "282325.0      1\n",
      "384982.0      1\n",
      "219109.0      1\n",
      "81920.0       1\n",
      "653611.0      1\n",
      "Name: taxvaluedollarcnt, Length: 160818, dtype: int64\n",
      "\n",
      "##########################\n",
      "\n",
      "assessmentyear\n",
      "2016.0    483366\n",
      "2015.0       302\n",
      "2014.0       169\n",
      "Name: assessmentyear, dtype: int64\n",
      "\n",
      "##########################\n",
      "\n",
      "landtaxvaluedollarcnt\n",
      "104023.0    346\n",
      "101525.0    342\n",
      "109038.0    301\n",
      "200000.0    277\n",
      "203050.0    268\n",
      "           ... \n",
      "165039.0      1\n",
      "31154.0       1\n",
      "359270.0      1\n",
      "500226.0      1\n",
      "302845.0      1\n",
      "Name: landtaxvaluedollarcnt, Length: 195174, dtype: int64\n",
      "\n",
      "##########################\n",
      "\n",
      "taxamount\n",
      "1844.16     122\n",
      "1045.88     105\n",
      "1481.24      98\n",
      "2264.43      88\n",
      "2266.14      84\n",
      "           ... \n",
      "1085.14       1\n",
      "3630.22       1\n",
      "5526.22       1\n",
      "3868.02       1\n",
      "10412.02      1\n",
      "Name: taxamount, Length: 323732, dtype: int64\n",
      "\n",
      "##########################\n",
      "\n",
      "taxdelinquencyflag\n",
      "Y    7650\n",
      "Name: taxdelinquencyflag, dtype: int64\n",
      "\n",
      "##########################\n",
      "\n",
      "taxdelinquencyyear\n",
      "15.0    3756\n",
      "14.0    2243\n",
      "13.0     635\n",
      "12.0     408\n",
      "11.0     251\n",
      "10.0     191\n",
      "9.0       97\n",
      "8.0       35\n",
      "7.0       20\n",
      "6.0        5\n",
      "5.0        3\n",
      "98.0       2\n",
      "0.0        1\n",
      "2.0        1\n",
      "90.0       1\n",
      "3.0        1\n",
      "96.0       1\n",
      "Name: taxdelinquencyyear, dtype: int64\n",
      "\n",
      "##########################\n",
      "\n",
      "censustractandblock\n",
      "6.037137e+13    881\n",
      "6.059063e+13    807\n",
      "6.037277e+13    800\n",
      "6.037920e+13    731\n",
      "6.037208e+13    713\n",
      "               ... \n",
      "6.059053e+13      1\n",
      "6.059063e+13      1\n",
      "6.111009e+13      1\n",
      "6.059063e+13      1\n",
      "6.059052e+13      1\n",
      "Name: censustractandblock, Length: 11773, dtype: int64\n",
      "\n",
      "##########################\n",
      "\n",
      "propertylandusedesc\n",
      "Condominium    483837\n",
      "Name: propertylandusedesc, dtype: int64\n",
      "\n",
      "##########################\n",
      "\n",
      "id_1\n",
      "212.0      1\n",
      "76973.0    1\n",
      "30190.0    1\n",
      "60319.0    1\n",
      "73413.0    1\n",
      "          ..\n",
      "32436.0    1\n",
      "71332.0    1\n",
      "53684.0    1\n",
      "49290.0    1\n",
      "18892.0    1\n",
      "Name: id_1, Length: 19342, dtype: int64\n",
      "\n",
      "##########################\n",
      "\n",
      "logerror\n",
      " 0.000166    3\n",
      " 0.013779    3\n",
      " 0.004113    3\n",
      " 0.009148    3\n",
      " 0.027023    3\n",
      "            ..\n",
      "-0.016547    1\n",
      " 0.003746    1\n",
      " 0.015798    1\n",
      "-0.030424    1\n",
      "-0.008285    1\n",
      "Name: logerror, Length: 19280, dtype: int64\n",
      "\n",
      "##########################\n",
      "\n",
      "transactiondate\n",
      "2017-06-30    276\n",
      "2017-05-31    229\n",
      "2017-04-28    224\n",
      "2017-07-28    200\n",
      "2017-03-31    196\n",
      "             ... \n",
      "2017-07-22      1\n",
      "2017-07-15      1\n",
      "2017-03-11      1\n",
      "2017-08-19      1\n",
      "2017-08-20      1\n",
      "Name: transactiondate, Length: 237, dtype: int64\n",
      "\n",
      "##########################\n",
      "\n",
      "airconditioningdesc\n",
      "Central               231932\n",
      "Wall Unit                916\n",
      "None                     403\n",
      "Window Unit               13\n",
      "Refrigeration              8\n",
      "Yes                        5\n",
      "Evaporative Cooler         2\n",
      "Name: airconditioningdesc, dtype: int64\n",
      "\n",
      "##########################\n",
      "\n",
      "architecturalstyledesc\n",
      "Contemporary     3128\n",
      "Conventional      335\n",
      "Bungalow          106\n",
      "Ranch/Rambler      74\n",
      "Cape Cod           16\n",
      "Colonial            9\n",
      "Victorian           1\n",
      "Name: architecturalstyledesc, dtype: int64\n",
      "\n",
      "##########################\n",
      "\n",
      "heatingorsystemdesc\n",
      "Central            271629\n",
      "Yes                 21086\n",
      "Floor/Wall          19949\n",
      "Forced air           6677\n",
      "None                  903\n",
      "Radiant               449\n",
      "Solar                 444\n",
      "Baseboard             120\n",
      "Hot Water              25\n",
      "Gravity                21\n",
      "Heat Pump              12\n",
      "Space/Suspended         3\n",
      "Steam                   1\n",
      "Name: heatingorsystemdesc, dtype: int64\n",
      "\n",
      "##########################\n",
      "\n",
      "storydesc\n",
      "Basement    16\n",
      "Name: storydesc, dtype: int64\n",
      "\n",
      "##########################\n",
      "\n",
      "typeconstructiondesc\n",
      "Frame       4054\n",
      "Concrete      21\n",
      "Masonry       11\n",
      "Metal          3\n",
      "Name: typeconstructiondesc, dtype: int64\n",
      "\n",
      "##########################\n",
      "\n"
     ]
    }
   ],
   "source": [
    "for column in houses.columns:\n",
    "    print(column)\n",
    "    print(houses[column].value_counts())\n",
    "    print('\\n##########################\\n')"
   ]
  },
  {
   "cell_type": "code",
   "execution_count": 27,
   "id": "ee41dc23",
   "metadata": {
    "scrolled": false
   },
   "outputs": [
    {
     "name": "stdout",
     "output_type": "stream",
     "text": [
      "parcelid\n"
     ]
    },
    {
     "data": {
      "image/png": "[encoded data removed]",
      "text/plain": [
       "<Figure size 432x288 with 1 Axes>"
      ]
     },
     "metadata": {
      "needs_background": "light"
     },
     "output_type": "display_data"
    },
    {
     "name": "stdout",
     "output_type": "stream",
     "text": [
      "typeconstructiontypeid\n"
     ]
    },
    {
     "data": {
      "image/png": "[encoded data removed]",
      "text/plain": [
       "<Figure size 432x288 with 1 Axes>"
      ]
     },
     "metadata": {
      "needs_background": "light"
     },
     "output_type": "display_data"
    },
    {
     "name": "stdout",
     "output_type": "stream",
     "text": [
      "storytypeid\n"
     ]
    },
    {
     "data": {
      "image/png": "[encoded data removed]",
      "text/plain": [
       "<Figure size 432x288 with 1 Axes>"
      ]
     },
     "metadata": {
      "needs_background": "light"
     },
     "output_type": "display_data"
    },
    {
     "name": "stdout",
     "output_type": "stream",
     "text": [
      "heatingorsystemtypeid\n"
     ]
    },
    {
     "data": {
      "image/png": "[encoded data removed]",
      "text/plain": [
       "<Figure size 432x288 with 1 Axes>"
      ]
     },
     "metadata": {
      "needs_background": "light"
     },
     "output_type": "display_data"
    },
    {
     "name": "stdout",
     "output_type": "stream",
     "text": [
      "buildingclasstypeid\n"
     ]
    },
    {
     "data": {
      "image/png": "[encoded data removed]",
      "text/plain": [
       "<Figure size 432x288 with 1 Axes>"
      ]
     },
     "metadata": {
      "needs_background": "light"
     },
     "output_type": "display_data"
    },
    {
     "name": "stdout",
     "output_type": "stream",
     "text": [
      "architecturalstyletypeid\n"
     ]
    },
    {
     "data": {
      "image/png": "[encoded data removed]",
      "text/plain": [
       "<Figure size 432x288 with 1 Axes>"
      ]
     },
     "metadata": {
      "needs_background": "light"
     },
     "output_type": "display_data"
    },
    {
     "name": "stdout",
     "output_type": "stream",
     "text": [
      "airconditioningtypeid\n"
     ]
    },
    {
     "data": {
      "image/png": "[encoded data removed]",
      "text/plain": [
       "<Figure size 432x288 with 1 Axes>"
      ]
     },
     "metadata": {
      "needs_background": "light"
     },
     "output_type": "display_data"
    },
    {
     "name": "stdout",
     "output_type": "stream",
     "text": [
      "propertylandusetypeid\n"
     ]
    },
    {
     "data": {
      "image/png": "[encoded data removed]",
      "text/plain": [
       "<Figure size 432x288 with 1 Axes>"
      ]
     },
     "metadata": {
      "needs_background": "light"
     },
     "output_type": "display_data"
    },
    {
     "name": "stdout",
     "output_type": "stream",
     "text": [
      "id\n"
     ]
    },
    {
     "data": {
      "image/png": "[encoded data removed]",
      "text/plain": [
       "<Figure size 432x288 with 1 Axes>"
      ]
     },
     "metadata": {
      "needs_background": "light"
     },
     "output_type": "display_data"
    },
    {
     "name": "stdout",
     "output_type": "stream",
     "text": [
      "basementsqft\n"
     ]
    },
    {
     "data": {
      "image/png": "[encoded data removed]",
      "text/plain": [
       "<Figure size 432x288 with 1 Axes>"
      ]
     },
     "metadata": {
      "needs_background": "light"
     },
     "output_type": "display_data"
    },
    {
     "name": "stdout",
     "output_type": "stream",
     "text": [
      "bathroomcnt\n"
     ]
    },
    {
     "data": {
      "image/png": "[encoded data removed]",
      "text/plain": [
       "<Figure size 432x288 with 1 Axes>"
      ]
     },
     "metadata": {
      "needs_background": "light"
     },
     "output_type": "display_data"
    },
    {
     "name": "stdout",
     "output_type": "stream",
     "text": [
      "bedroomcnt\n"
     ]
    },
    {
     "data": {
      "image/png": "[encoded data removed]",
      "text/plain": [
       "<Figure size 432x288 with 1 Axes>"
      ]
     },
     "metadata": {
      "needs_background": "light"
     },
     "output_type": "display_data"
    },
    {
     "name": "stdout",
     "output_type": "stream",
     "text": [
      "buildingqualitytypeid\n"
     ]
    },
    {
     "data": {
      "image/png": "[encoded data removed]",
      "text/plain": [
       "<Figure size 432x288 with 1 Axes>"
      ]
     },
     "metadata": {
      "needs_background": "light"
     },
     "output_type": "display_data"
    },
    {
     "name": "stdout",
     "output_type": "stream",
     "text": [
      "calculatedbathnbr\n"
     ]
    },
    {
     "data": {
      "image/png": "[encoded data removed]",
      "text/plain": [
       "<Figure size 432x288 with 1 Axes>"
      ]
     },
     "metadata": {
      "needs_background": "light"
     },
     "output_type": "display_data"
    },
    {
     "name": "stdout",
     "output_type": "stream",
     "text": [
      "decktypeid\n"
     ]
    },
    {
     "data": {
      "image/png": "[encoded data removed]",
      "text/plain": [
       "<Figure size 432x288 with 1 Axes>"
      ]
     },
     "metadata": {
      "needs_background": "light"
     },
     "output_type": "display_data"
    },
    {
     "name": "stdout",
     "output_type": "stream",
     "text": [
      "finishedfloor1squarefeet\n"
     ]
    },
    {
     "data": {
      "image/png": "[encoded data removed]",
      "text/plain": [
       "<Figure size 432x288 with 1 Axes>"
      ]
     },
     "metadata": {
      "needs_background": "light"
     },
     "output_type": "display_data"
    },
    {
     "name": "stdout",
     "output_type": "stream",
     "text": [
      "calculatedfinishedsquarefeet\n"
     ]
    },
    {
     "data": {
      "image/png": "[encoded data removed]",
      "text/plain": [
       "<Figure size 432x288 with 1 Axes>"
      ]
     },
     "metadata": {
      "needs_background": "light"
     },
     "output_type": "display_data"
    },
    {
     "name": "stdout",
     "output_type": "stream",
     "text": [
      "finishedsquarefeet12\n"
     ]
    },
    {
     "data": {
      "image/png": "[encoded data removed]",
      "text/plain": [
       "<Figure size 432x288 with 1 Axes>"
      ]
     },
     "metadata": {
      "needs_background": "light"
     },
     "output_type": "display_data"
    },
    {
     "name": "stdout",
     "output_type": "stream",
     "text": [
      "finishedsquarefeet15\n"
     ]
    },
    {
     "data": {
      "image/png": "[encoded data removed]",
      "text/plain": [
       "<Figure size 432x288 with 1 Axes>"
      ]
     },
     "metadata": {
      "needs_background": "light"
     },
     "output_type": "display_data"
    },
    {
     "name": "stdout",
     "output_type": "stream",
     "text": [
      "finishedsquarefeet50\n"
     ]
    },
    {
     "data": {
      "image/png": "[encoded data removed]",
      "text/plain": [
       "<Figure size 432x288 with 1 Axes>"
      ]
     },
     "metadata": {
      "needs_background": "light"
     },
     "output_type": "display_data"
    },
    {
     "name": "stdout",
     "output_type": "stream",
     "text": [
      "finishedsquarefeet6\n"
     ]
    },
    {
     "data": {
      "image/png": "[encoded data removed]",
      "text/plain": [
       "<Figure size 432x288 with 1 Axes>"
      ]
     },
     "metadata": {
      "needs_background": "light"
     },
     "output_type": "display_data"
    },
    {
     "name": "stdout",
     "output_type": "stream",
     "text": [
      "fips\n"
     ]
    },
    {
     "data": {
      "image/png": "[encoded data removed]",
      "text/plain": [
       "<Figure size 432x288 with 1 Axes>"
      ]
     },
     "metadata": {
      "needs_background": "light"
     },
     "output_type": "display_data"
    },
    {
     "name": "stdout",
     "output_type": "stream",
     "text": [
      "fireplacecnt\n"
     ]
    },
    {
     "data": {
      "image/png": "[encoded data removed]",
      "text/plain": [
       "<Figure size 432x288 with 1 Axes>"
      ]
     },
     "metadata": {
      "needs_background": "light"
     },
     "output_type": "display_data"
    },
    {
     "name": "stdout",
     "output_type": "stream",
     "text": [
      "fullbathcnt\n"
     ]
    },
    {
     "data": {
      "image/png": "[encoded data removed]",
      "text/plain": [
       "<Figure size 432x288 with 1 Axes>"
      ]
     },
     "metadata": {
      "needs_background": "light"
     },
     "output_type": "display_data"
    },
    {
     "name": "stdout",
     "output_type": "stream",
     "text": [
      "garagecarcnt\n"
     ]
    },
    {
     "data": {
      "image/png": "[encoded data removed]",
      "text/plain": [
       "<Figure size 432x288 with 1 Axes>"
      ]
     },
     "metadata": {
      "needs_background": "light"
     },
     "output_type": "display_data"
    },
    {
     "name": "stdout",
     "output_type": "stream",
     "text": [
      "garagetotalsqft\n"
     ]
    },
    {
     "data": {
      "image/png": "[encoded data removed]",
      "text/plain": [
       "<Figure size 432x288 with 1 Axes>"
      ]
     },
     "metadata": {
      "needs_background": "light"
     },
     "output_type": "display_data"
    },
    {
     "name": "stdout",
     "output_type": "stream",
     "text": [
      "hashottuborspa\n"
     ]
    },
    {
     "data": {
      "image/png": "[encoded data removed]",
      "text/plain": [
       "<Figure size 432x288 with 1 Axes>"
      ]
     },
     "metadata": {
      "needs_background": "light"
     },
     "output_type": "display_data"
    },
    {
     "name": "stdout",
     "output_type": "stream",
     "text": [
      "latitude\n"
     ]
    },
    {
     "data": {
      "image/png": "[encoded data removed]",
      "text/plain": [
       "<Figure size 432x288 with 1 Axes>"
      ]
     },
     "metadata": {
      "needs_background": "light"
     },
     "output_type": "display_data"
    },
    {
     "name": "stdout",
     "output_type": "stream",
     "text": [
      "longitude\n"
     ]
    },
    {
     "data": {
      "image/png": "[encoded data removed]",
      "text/plain": [
       "<Figure size 432x288 with 1 Axes>"
      ]
     },
     "metadata": {
      "needs_background": "light"
     },
     "output_type": "display_data"
    },
    {
     "name": "stdout",
     "output_type": "stream",
     "text": [
      "lotsizesquarefeet\n"
     ]
    },
    {
     "data": {
      "image/png": "[encoded data removed]",
      "text/plain": [
       "<Figure size 432x288 with 1 Axes>"
      ]
     },
     "metadata": {
      "needs_background": "light"
     },
     "output_type": "display_data"
    },
    {
     "name": "stdout",
     "output_type": "stream",
     "text": [
      "poolcnt\n"
     ]
    },
    {
     "data": {
      "image/png": "[encoded data removed]",
      "text/plain": [
       "<Figure size 432x288 with 1 Axes>"
      ]
     },
     "metadata": {
      "needs_background": "light"
     },
     "output_type": "display_data"
    },
    {
     "name": "stdout",
     "output_type": "stream",
     "text": [
      "poolsizesum\n"
     ]
    },
    {
     "data": {
      "image/png": "[encoded data removed]",
      "text/plain": [
       "<Figure size 432x288 with 1 Axes>"
      ]
     },
     "metadata": {
      "needs_background": "light"
     },
     "output_type": "display_data"
    },
    {
     "name": "stdout",
     "output_type": "stream",
     "text": [
      "pooltypeid10\n"
     ]
    },
    {
     "data": {
      "image/png": "[encoded data removed]",
      "text/plain": [
       "<Figure size 432x288 with 1 Axes>"
      ]
     },
     "metadata": {
      "needs_background": "light"
     },
     "output_type": "display_data"
    },
    {
     "name": "stdout",
     "output_type": "stream",
     "text": [
      "pooltypeid2\n"
     ]
    },
    {
     "data": {
      "image/png": "[encoded data removed]",
      "text/plain": [
       "<Figure size 432x288 with 1 Axes>"
      ]
     },
     "metadata": {
      "needs_background": "light"
     },
     "output_type": "display_data"
    },
    {
     "name": "stdout",
     "output_type": "stream",
     "text": [
      "pooltypeid7\n"
     ]
    },
    {
     "data": {
      "image/png": "[encoded data removed]",
      "text/plain": [
       "<Figure size 432x288 with 1 Axes>"
      ]
     },
     "metadata": {
      "needs_background": "light"
     },
     "output_type": "display_data"
    },
    {
     "name": "stdout",
     "output_type": "stream",
     "text": [
      "propertycountylandusecode\n"
     ]
    },
    {
     "data": {
      "image/png": "[encoded data removed]",
      "text/plain": [
       "<Figure size 432x288 with 1 Axes>"
      ]
     },
     "metadata": {
      "needs_background": "light"
     },
     "output_type": "display_data"
    },
    {
     "name": "stdout",
     "output_type": "stream",
     "text": [
      "propertyzoningdesc\n"
     ]
    },
    {
     "data": {
      "image/png": "[encoded data removed]",
      "text/plain": [
       "<Figure size 432x288 with 1 Axes>"
      ]
     },
     "metadata": {
      "needs_background": "light"
     },
     "output_type": "display_data"
    },
    {
     "name": "stdout",
     "output_type": "stream",
     "text": [
      "rawcensustractandblock\n"
     ]
    },
    {
     "data": {
      "image/png": "[encoded data removed]",
      "text/plain": [
       "<Figure size 432x288 with 1 Axes>"
      ]
     },
     "metadata": {
      "needs_background": "light"
     },
     "output_type": "display_data"
    },
    {
     "name": "stdout",
     "output_type": "stream",
     "text": [
      "regionidcity\n"
     ]
    },
    {
     "data": {
      "image/png": "[encoded data removed]",
      "text/plain": [
       "<Figure size 432x288 with 1 Axes>"
      ]
     },
     "metadata": {
      "needs_background": "light"
     },
     "output_type": "display_data"
    },
    {
     "name": "stdout",
     "output_type": "stream",
     "text": [
      "regionidcounty\n"
     ]
    },
    {
     "data": {
      "image/png": "[encoded data removed]",
      "text/plain": [
       "<Figure size 432x288 with 1 Axes>"
      ]
     },
     "metadata": {
      "needs_background": "light"
     },
     "output_type": "display_data"
    },
    {
     "name": "stdout",
     "output_type": "stream",
     "text": [
      "regionidneighborhood\n"
     ]
    },
    {
     "data": {
      "image/png": "[encoded data removed]",
      "text/plain": [
       "<Figure size 432x288 with 1 Axes>"
      ]
     },
     "metadata": {
      "needs_background": "light"
     },
     "output_type": "display_data"
    },
    {
     "name": "stdout",
     "output_type": "stream",
     "text": [
      "regionidzip\n"
     ]
    },
    {
     "data": {
      "image/png": "[encoded data removed]",
      "text/plain": [
       "<Figure size 432x288 with 1 Axes>"
      ]
     },
     "metadata": {
      "needs_background": "light"
     },
     "output_type": "display_data"
    },
    {
     "name": "stdout",
     "output_type": "stream",
     "text": [
      "roomcnt\n"
     ]
    },
    {
     "data": {
      "image/png": "[encoded data removed]",
      "text/plain": [
       "<Figure size 432x288 with 1 Axes>"
      ]
     },
     "metadata": {
      "needs_background": "light"
     },
     "output_type": "display_data"
    },
    {
     "name": "stdout",
     "output_type": "stream",
     "text": [
      "threequarterbathnbr\n"
     ]
    },
    {
     "data": {
      "image/png": "[encoded data removed]",
      "text/plain": [
       "<Figure size 432x288 with 1 Axes>"
      ]
     },
     "metadata": {
      "needs_background": "light"
     },
     "output_type": "display_data"
    },
    {
     "name": "stdout",
     "output_type": "stream",
     "text": [
      "unitcnt\n"
     ]
    },
    {
     "data": {
      "image/png": "[encoded data removed]",
      "text/plain": [
       "<Figure size 432x288 with 1 Axes>"
      ]
     },
     "metadata": {
      "needs_background": "light"
     },
     "output_type": "display_data"
    },
    {
     "name": "stdout",
     "output_type": "stream",
     "text": [
      "yardbuildingsqft17\n"
     ]
    },
    {
     "data": {
      "image/png": "[encoded data removed]",
      "text/plain": [
       "<Figure size 432x288 with 1 Axes>"
      ]
     },
     "metadata": {
      "needs_background": "light"
     },
     "output_type": "display_data"
    },
    {
     "name": "stdout",
     "output_type": "stream",
     "text": [
      "yardbuildingsqft26\n"
     ]
    },
    {
     "data": {
      "image/png": "[encoded data removed]",
      "text/plain": [
       "<Figure size 432x288 with 1 Axes>"
      ]
     },
     "metadata": {
      "needs_background": "light"
     },
     "output_type": "display_data"
    },
    {
     "name": "stdout",
     "output_type": "stream",
     "text": [
      "yearbuilt\n"
     ]
    },
    {
     "data": {
      "image/png": "[encoded data removed]",
      "text/plain": [
       "<Figure size 432x288 with 1 Axes>"
      ]
     },
     "metadata": {
      "needs_background": "light"
     },
     "output_type": "display_data"
    },
    {
     "name": "stdout",
     "output_type": "stream",
     "text": [
      "numberofstories\n"
     ]
    },
    {
     "data": {
      "image/png": "[encoded data removed]",
      "text/plain": [
       "<Figure size 432x288 with 1 Axes>"
      ]
     },
     "metadata": {
      "needs_background": "light"
     },
     "output_type": "display_data"
    },
    {
     "name": "stdout",
     "output_type": "stream",
     "text": [
      "fireplaceflag\n"
     ]
    },
    {
     "data": {
      "image/png": "[encoded data removed]",
      "text/plain": [
       "<Figure size 432x288 with 1 Axes>"
      ]
     },
     "metadata": {
      "needs_background": "light"
     },
     "output_type": "display_data"
    },
    {
     "name": "stdout",
     "output_type": "stream",
     "text": [
      "structuretaxvaluedollarcnt\n"
     ]
    },
    {
     "data": {
      "image/png": "[encoded data removed]",
      "text/plain": [
       "<Figure size 432x288 with 1 Axes>"
      ]
     },
     "metadata": {
      "needs_background": "light"
     },
     "output_type": "display_data"
    },
    {
     "name": "stdout",
     "output_type": "stream",
     "text": [
      "taxvaluedollarcnt\n"
     ]
    },
    {
     "data": {
      "image/png": "[encoded data removed]",
      "text/plain": [
       "<Figure size 432x288 with 1 Axes>"
      ]
     },
     "metadata": {
      "needs_background": "light"
     },
     "output_type": "display_data"
    },
    {
     "name": "stdout",
     "output_type": "stream",
     "text": [
      "assessmentyear\n"
     ]
    },
    {
     "data": {
      "image/png": "[encoded data removed]",
      "text/plain": [
       "<Figure size 432x288 with 1 Axes>"
      ]
     },
     "metadata": {
      "needs_background": "light"
     },
     "output_type": "display_data"
    },
    {
     "name": "stdout",
     "output_type": "stream",
     "text": [
      "landtaxvaluedollarcnt\n"
     ]
    },
    {
     "data": {
      "image/png": "[encoded data removed]",
      "text/plain": [
       "<Figure size 432x288 with 1 Axes>"
      ]
     },
     "metadata": {
      "needs_background": "light"
     },
     "output_type": "display_data"
    },
    {
     "name": "stdout",
     "output_type": "stream",
     "text": [
      "taxamount\n"
     ]
    },
    {
     "data": {
      "image/png": "[encoded data removed]",
      "text/plain": [
       "<Figure size 432x288 with 1 Axes>"
      ]
     },
     "metadata": {
      "needs_background": "light"
     },
     "output_type": "display_data"
    },
    {
     "name": "stdout",
     "output_type": "stream",
     "text": [
      "taxdelinquencyflag\n"
     ]
    },
    {
     "data": {
      "image/png": "[encoded data removed]",
      "text/plain": [
       "<Figure size 432x288 with 1 Axes>"
      ]
     },
     "metadata": {
      "needs_background": "light"
     },
     "output_type": "display_data"
    },
    {
     "name": "stdout",
     "output_type": "stream",
     "text": [
      "taxdelinquencyyear\n"
     ]
    },
    {
     "data": {
      "image/png": "[encoded data removed]",
      "text/plain": [
       "<Figure size 432x288 with 1 Axes>"
      ]
     },
     "metadata": {
      "needs_background": "light"
     },
     "output_type": "display_data"
    },
    {
     "name": "stdout",
     "output_type": "stream",
     "text": [
      "censustractandblock\n"
     ]
    },
    {
     "data": {
      "image/png": "[encoded data removed]",
      "text/plain": [
       "<Figure size 432x288 with 1 Axes>"
      ]
     },
     "metadata": {
      "needs_background": "light"
     },
     "output_type": "display_data"
    },
    {
     "name": "stdout",
     "output_type": "stream",
     "text": [
      "propertylandusedesc\n"
     ]
    },
    {
     "data": {
      "image/png": "[encoded data removed]",
      "text/plain": [
       "<Figure size 432x288 with 1 Axes>"
      ]
     },
     "metadata": {
      "needs_background": "light"
     },
     "output_type": "display_data"
    },
    {
     "name": "stdout",
     "output_type": "stream",
     "text": [
      "id_1\n"
     ]
    },
    {
     "data": {
      "image/png": "[encoded data removed]",
      "text/plain": [
       "<Figure size 432x288 with 1 Axes>"
      ]
     },
     "metadata": {
      "needs_background": "light"
     },
     "output_type": "display_data"
    },
    {
     "name": "stdout",
     "output_type": "stream",
     "text": [
      "logerror\n"
     ]
    },
    {
     "data": {
      "image/png": "[encoded data removed]",
      "text/plain": [
       "<Figure size 432x288 with 1 Axes>"
      ]
     },
     "metadata": {
      "needs_background": "light"
     },
     "output_type": "display_data"
    },
    {
     "name": "stdout",
     "output_type": "stream",
     "text": [
      "transactiondate\n"
     ]
    },
    {
     "data": {
      "image/png": "[encoded data removed]",
      "text/plain": [
       "<Figure size 432x288 with 1 Axes>"
      ]
     },
     "metadata": {
      "needs_background": "light"
     },
     "output_type": "display_data"
    },
    {
     "name": "stdout",
     "output_type": "stream",
     "text": [
      "airconditioningdesc\n"
     ]
    },
    {
     "data": {
      "image/png": "[encoded data removed]",
      "text/plain": [
       "<Figure size 432x288 with 1 Axes>"
      ]
     },
     "metadata": {
      "needs_background": "light"
     },
     "output_type": "display_data"
    },
    {
     "name": "stdout",
     "output_type": "stream",
     "text": [
      "architecturalstyledesc\n"
     ]
    },
    {
     "data": {
      "image/png": "[encoded data removed]",
      "text/plain": [
       "<Figure size 432x288 with 1 Axes>"
      ]
     },
     "metadata": {
      "needs_background": "light"
     },
     "output_type": "display_data"
    },
    {
     "name": "stdout",
     "output_type": "stream",
     "text": [
      "heatingorsystemdesc\n"
     ]
    },
    {
     "data": {
      "image/png": "[encoded data removed]",
      "text/plain": [
       "<Figure size 432x288 with 1 Axes>"
      ]
     },
     "metadata": {
      "needs_background": "light"
     },
     "output_type": "display_data"
    },
    {
     "name": "stdout",
     "output_type": "stream",
     "text": [
      "storydesc\n"
     ]
    },
    {
     "data": {
      "image/png": "[encoded data removed]",
      "text/plain": [
       "<Figure size 432x288 with 1 Axes>"
      ]
     },
     "metadata": {
      "needs_background": "light"
     },
     "output_type": "display_data"
    },
    {
     "name": "stdout",
     "output_type": "stream",
     "text": [
      "typeconstructiondesc\n"
     ]
    },
    {
     "data": {
      "image/png": "[encoded data removed]",
      "text/plain": [
       "<Figure size 432x288 with 1 Axes>"
      ]
     },
     "metadata": {
      "needs_background": "light"
     },
     "output_type": "display_data"
    }
   ],
   "source": [
    "for column in houses.columns:\n",
    "    print(column)\n",
    "    plt.title(column)\n",
    "    houses[column].hist()\n",
    "    plt.grid(True)\n",
    "    plt.show()"
   ]
  },
  {
   "cell_type": "code",
   "execution_count": null,
   "id": "d434668c",
   "metadata": {},
   "outputs": [],
   "source": [
    "def "
   ]
  },
  {
   "cell_type": "code",
   "execution_count": null,
   "id": "0f399031",
   "metadata": {},
   "outputs": [],
   "source": [
    "houses3 = houses2[['parcelid2']]\n",
    "houses3"
   ]
  },
  {
   "cell_type": "code",
   "execution_count": null,
   "id": "7cad3199",
   "metadata": {},
   "outputs": [],
   "source": [
    "houses4 = houses3.T.drop_duplicates().T"
   ]
  },
  {
   "cell_type": "code",
   "execution_count": null,
   "id": "fca55b88",
   "metadata": {},
   "outputs": [],
   "source": [
    "houses4.head()"
   ]
  },
  {
   "cell_type": "code",
   "execution_count": null,
   "id": "f21d5ddd",
   "metadata": {},
   "outputs": [],
   "source": [
    "houses2['parcelid'].equals(houses2['parcelid']) "
   ]
  },
  {
   "cell_type": "code",
   "execution_count": null,
   "id": "3ad5fb70",
   "metadata": {},
   "outputs": [],
   "source": [
    "pd.io.parsers.base_parser.ParserBase({'names':df.columns, 'usecols':None})._maybe_dedup_names(df.columns)"
   ]
  },
  {
   "cell_type": "code",
   "execution_count": null,
   "id": "5f125b7c",
   "metadata": {},
   "outputs": [],
   "source": [
    "def _maybe_dedup_names(self, names):\n",
    "    # see gh-7160 and gh-9424: this helps to provide\n",
    "    # immediate alleviation of the duplicate names\n",
    "    # issue and appears to be satisfactory to users,\n",
    "    # but ultimately, not needing to butcher the names\n",
    "    # would be nice!\n",
    "    if self.mangle_dupe_cols:\n",
    "        names = list(names)  # so we can index\n",
    "        counts = {}\n",
    "\n",
    "        for i, col in enumerate(names):\n",
    "            cur_count = counts.get(col, 0)\n",
    "\n",
    "            if cur_count > 0:\n",
    "                names[i] = '%s.%d' % (col, cur_count)\n",
    "\n",
    "            counts[col] = cur_count + 1\n",
    "\n",
    "    return names"
   ]
  },
  {
   "cell_type": "code",
   "execution_count": null,
   "id": "8dddc68f",
   "metadata": {},
   "outputs": [],
   "source": [
    "houses2.rename(columns = {houses2.iloc[:, [1]]:'parcelid1'}, inplace = True)\n"
   ]
  },
  {
   "cell_type": "code",
   "execution_count": null,
   "id": "36d3a237",
   "metadata": {},
   "outputs": [],
   "source": [
    "display(data.loc[2 : 5])\n"
   ]
  },
  {
   "cell_type": "code",
   "execution_count": null,
   "id": "73b3009b",
   "metadata": {},
   "outputs": [],
   "source": [
    "houses2.rename(columns = {'parcelid':'parcelid1', 'parcelid':'parcelid2'}, inplace = True)\n",
    "houses2"
   ]
  },
  {
   "cell_type": "code",
   "execution_count": null,
   "id": "d6a20bbe",
   "metadata": {},
   "outputs": [],
   "source": [
    "figure, ax1 = plt.subplots()\n",
    "ax1.plot(df.iloc[:,0],df.iloc[:,1],linewidth=0.5,zorder=1, label = \"Force1\")\n",
    "ax1.plot(df.iloc[:,0],df.iloc[:,2],linewidth=0.5,zorder=1, label = \"Force2\")"
   ]
  }
 ],
 "metadata": {
  "kernelspec": {
   "display_name": "Python 3 (ipykernel)",
   "language": "python",
   "name": "python3"
  },
  "language_info": {
   "codemirror_mode": {
    "name": "ipython",
    "version": 3
   },
   "file_extension": ".py",
   "mimetype": "text/x-python",
   "name": "python",
   "nbconvert_exporter": "python",
   "pygments_lexer": "ipython3",
   "version": "3.9.7"
  }
 },
 "nbformat": 4,
 "nbformat_minor": 5
}
